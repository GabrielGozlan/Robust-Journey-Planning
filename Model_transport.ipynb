{
 "cells": [
  {
   "cell_type": "code",
   "execution_count": 2,
   "id": "87d3ca26-c635-4078-8713-0dde96dc6078",
   "metadata": {},
   "outputs": [
    {
     "data": {
      "application/vnd.jupyter.widget-view+json": {
       "model_id": "",
       "version_major": 2,
       "version_minor": 0
      },
      "text/plain": [
       "FloatProgress(value=0.0, bar_style='info', description='Progress:', layout=Layout(height='25px', width='50%'),…"
      ]
     },
     "metadata": {},
     "output_type": "display_data"
    },
    {
     "name": "stdout",
     "output_type": "stream",
     "text": [
      "Start Spark name:livy-session-5644, version:3.3.2.3.3.7190.2-1"
     ]
    }
   ],
   "source": [
    "print(f'Start Spark name:{spark._sc.appName}, version:{spark.version}')"
   ]
  },
  {
   "cell_type": "code",
   "execution_count": 3,
   "id": "1ca10e93-48eb-4107-a9c3-7bcd481f67c3",
   "metadata": {},
   "outputs": [
    {
     "data": {
      "text/html": [
       "Current session configs: <tt>{'driverMemory': '1000M', 'executorMemory': '4G', 'executorCores': 4, 'numExecutors': 10, 'conf': {'spark.executorEnv.USERNAME': 'leclercq', 'spark.executorEnv.HADOOP_DEFAULT_FS': 'hdfs://iccluster067.iccluster.epfl.ch:8020'}, 'kind': 'pyspark'}</tt><br>"
      ],
      "text/plain": [
       "<IPython.core.display.HTML object>"
      ]
     },
     "metadata": {},
     "output_type": "display_data"
    },
    {
     "data": {
      "text/html": [
       "<table>\n",
       "<tr><th>ID</th><th>YARN Application ID</th><th>Kind</th><th>State</th><th>Spark UI</th><th>Driver log</th><th>User</th><th>Current session?</th></tr><tr><td>5639</td><td>application_1713270977862_6333</td><td>pyspark</td><td>idle</td><td><a target=\"_blank\" href=\"http://iccluster080.iccluster.epfl.ch:8088/proxy/application_1713270977862_6333/\">Link</a></td><td><a target=\"_blank\" href=\"http://iccluster067.iccluster.epfl.ch:8042/node/containerlogs/container_e06_1713270977862_6333_01_000001/livy\">Link</a></td><td>None</td><td></td></tr><tr><td>5640</td><td>application_1713270977862_6334</td><td>pyspark</td><td>idle</td><td><a target=\"_blank\" href=\"http://iccluster080.iccluster.epfl.ch:8088/proxy/application_1713270977862_6334/\">Link</a></td><td><a target=\"_blank\" href=\"http://iccluster065.iccluster.epfl.ch:8042/node/containerlogs/container_e06_1713270977862_6334_01_000001/livy\">Link</a></td><td>None</td><td></td></tr><tr><td>5643</td><td>application_1713270977862_6338</td><td>pyspark</td><td>idle</td><td><a target=\"_blank\" href=\"http://iccluster080.iccluster.epfl.ch:8088/proxy/application_1713270977862_6338/\">Link</a></td><td><a target=\"_blank\" href=\"http://iccluster072.iccluster.epfl.ch:8042/node/containerlogs/container_e06_1713270977862_6338_01_000001/livy\">Link</a></td><td>None</td><td></td></tr><tr><td>5644</td><td>application_1713270977862_6339</td><td>pyspark</td><td>idle</td><td><a target=\"_blank\" href=\"http://iccluster080.iccluster.epfl.ch:8088/proxy/application_1713270977862_6339/\">Link</a></td><td><a target=\"_blank\" href=\"http://iccluster065.iccluster.epfl.ch:8042/node/containerlogs/container_e06_1713270977862_6339_01_000001/livy\">Link</a></td><td>None</td><td>✔</td></tr></table>"
      ],
      "text/plain": [
       "<IPython.core.display.HTML object>"
      ]
     },
     "metadata": {},
     "output_type": "display_data"
    }
   ],
   "source": [
    "%%info"
   ]
  },
  {
   "cell_type": "code",
   "execution_count": 4,
   "id": "b79b804b-1f8a-4501-8abd-41996992f334",
   "metadata": {},
   "outputs": [
    {
     "data": {
      "application/vnd.jupyter.widget-view+json": {
       "model_id": "",
       "version_major": 2,
       "version_minor": 0
      },
      "text/plain": [
       "FloatProgress(value=0.0, bar_style='info', description='Progress:', layout=Layout(height='25px', width='50%'),…"
      ]
     },
     "metadata": {},
     "output_type": "display_data"
    },
    {
     "name": "stdout",
     "output_type": "stream",
     "text": [
      "remote USER=livy"
     ]
    }
   ],
   "source": [
    "import os\n",
    "print(f\"remote USER={os.getenv('USER',None)}\")"
   ]
  },
  {
   "cell_type": "code",
   "execution_count": 5,
   "id": "84c9c554-8842-4bb5-92c9-699a0ff7296f",
   "metadata": {},
   "outputs": [
    {
     "name": "stdout",
     "output_type": "stream",
     "text": [
      "local USER=leclercq\n"
     ]
    }
   ],
   "source": [
    "%%local\n",
    "import os\n",
    "print(f\"local USER={os.getenv('USER',None)}\")"
   ]
  },
  {
   "cell_type": "code",
   "execution_count": 6,
   "id": "d167417d-342c-4574-866c-247e7c97726e",
   "metadata": {},
   "outputs": [
    {
     "name": "stdout",
     "output_type": "stream",
     "text": [
      "local username=leclercq\n",
      "hadoop_fs=hdfs://iccluster067.iccluster.epfl.ch:8020\n"
     ]
    }
   ],
   "source": [
    "%%local\n",
    "import os\n",
    "username=os.getenv('USER', 'anonymous')\n",
    "hadoop_fs=os.getenv('HADOOP_DEFAULT_FS', 'hdfs://iccluster067.iccluster.epfl.ch:8020')\n",
    "print(f\"local username={username}\\nhadoop_fs={hadoop_fs}\")"
   ]
  },
  {
   "cell_type": "code",
   "execution_count": 7,
   "id": "d3cac31a-ae6e-4ee6-869f-745ba97c167c",
   "metadata": {},
   "outputs": [
    {
     "data": {
      "application/vnd.jupyter.widget-view+json": {
       "model_id": "",
       "version_major": 2,
       "version_minor": 0
      },
      "text/plain": [
       "FloatProgress(value=0.0, bar_style='info', description='Progress:', layout=Layout(height='25px', width='50%'),…"
      ]
     },
     "metadata": {},
     "output_type": "display_data"
    },
    {
     "name": "stdout",
     "output_type": "stream",
     "text": [
      "remote username=leclercq\n",
      "hadoop_fs=hdfs://iccluster067.iccluster.epfl.ch:8020"
     ]
    }
   ],
   "source": [
    " # (prevent deprecated np.bool error since numpy 1.24, until a new version of pandas/Spark fixes this)\n",
    "import numpy as np\n",
    "np.bool = np.bool_\n",
    "\n",
    "username=spark.conf.get('spark.executorEnv.USERNAME', 'anonymous')\n",
    "hadoop_fs=spark.conf.get('spark.executorEnv.HADOOP_DEFAULT_FS','hdfs://iccluster067.iccluster.epfl.ch:8020')\n",
    "print(f\"remote username={username}\\nhadoop_fs={hadoop_fs}\")"
   ]
  },
  {
   "cell_type": "code",
   "execution_count": 7,
   "id": "dfe620ee-d4ea-46d4-bae1-9413c0a443c0",
   "metadata": {},
   "outputs": [
    {
     "data": {
      "application/vnd.jupyter.widget-view+json": {
       "model_id": "",
       "version_major": 2,
       "version_minor": 0
      },
      "text/plain": [
       "FloatProgress(value=0.0, bar_style='info', description='Progress:', layout=Layout(height='25px', width='50%'),…"
      ]
     },
     "metadata": {},
     "output_type": "display_data"
    },
    {
     "name": "stdout",
     "output_type": "stream",
     "text": [
      "DataFrame[]"
     ]
    }
   ],
   "source": [
    "spark.sql(f\"ADD JARS {hadoop_fs}/data/jars/esri-geometry-api-2.2.4.jar\")\n",
    "spark.sql(f\"ADD JARS {hadoop_fs}/data/jars/spatial-sdk-hive-2.2.0.jar\")\n",
    "spark.sql(f\"ADD JARS {hadoop_fs}/data/jars/spatial-sdk-json-2.2.0.jar\")\n",
    "spark.sql(\"CREATE OR REPLACE TEMPORARY FUNCTION ST_Point AS 'com.esri.hadoop.hive.ST_Point'\")\n",
    "spark.sql(\"CREATE OR REPLACE TEMPORARY FUNCTION ST_SetSRID AS 'com.esri.hadoop.hive.ST_SetSRID'\")\n",
    "spark.sql(\"CREATE OR REPLACE TEMPORARY FUNCTION ST_Contains AS 'com.esri.hadoop.hive.ST_Contains'\")"
   ]
  },
  {
   "cell_type": "markdown",
   "id": "1b0951e2-3e77-4c13-b5ea-2718e5148667",
   "metadata": {},
   "source": [
    "# Define the region"
   ]
  },
  {
   "cell_type": "code",
   "execution_count": 8,
   "id": "52e0b94c-5bbe-4a1d-b657-cb06a08ef681",
   "metadata": {},
   "outputs": [
    {
     "data": {
      "application/vnd.jupyter.widget-view+json": {
       "model_id": "",
       "version_major": 2,
       "version_minor": 0
      },
      "text/plain": [
       "FloatProgress(value=0.0, bar_style='info', description='Progress:', layout=Layout(height='25px', width='50%'),…"
      ]
     },
     "metadata": {},
     "output_type": "display_data"
    }
   ],
   "source": [
    "region_name, region_id = \"lausanne\", 2056"
   ]
  },
  {
   "cell_type": "markdown",
   "id": "684feaca-d567-4212-abea-42830799b583",
   "metadata": {},
   "source": [
    "# Import data"
   ]
  },
  {
   "cell_type": "code",
   "execution_count": 9,
   "id": "62754ab2-8873-485d-941d-8d1a9e5cfee5",
   "metadata": {},
   "outputs": [
    {
     "data": {
      "application/vnd.jupyter.widget-view+json": {
       "model_id": "",
       "version_major": 2,
       "version_minor": 0
      },
      "text/plain": [
       "FloatProgress(value=0.0, bar_style='info', description='Progress:', layout=Layout(height='25px', width='50%'),…"
      ]
     },
     "metadata": {},
     "output_type": "display_data"
    },
    {
     "name": "stdout",
     "output_type": "stream",
     "text": [
      "observations istdaten: 2886464689\n",
      "+-----------+----------------+------------+-------------+--------------------+----------+----------+-----------+---------+-------------------+--------------+-------------+-------+-----------------+----------------+-------------------+------------------+----------------+-------------------+------------------+-------------+----+-----+\n",
      "|betriebstag|fahrt_bezeichner|betreiber_id|betreiber_abk|      betreiber_name|produkt_id| linien_id|linien_text|umlauf_id|verkehrsmittel_text|zusatzfahrt_tf|faellt_aus_tf|  bpuic|haltestellen_name|    ankunftszeit|        an_prognose|an_prognose_status|    abfahrtszeit|        ab_prognose|ab_prognose_status|durchfahrt_tf|year|month|\n",
      "+-----------+----------------+------------+-------------+--------------------+----------+----------+-----------+---------+-------------------+--------------+-------------+-------+-----------------+----------------+-------------------+------------------+----------------+-------------------+------------------+-------------+----+-----+\n",
      "| 30.04.2022| 85:793:5005-505|      85:793|         BOGG|Busbetrieb Olten-...|       BUS|85:793:505|        505|     5051|                  B|         false|        false|8500383|                 |30.04.2022 05:32|30.04.2022 05:32:54|              REAL|30.04.2022 05:32|30.04.2022 05:33:12|              REAL|        false|2022|    4|\n",
      "| 25.05.2022| 85:793:5009-505|      85:793|         BOGG|Busbetrieb Olten-...|       BUS|85:793:505|        505|     5051|                  B|         false|        false|8500383|                 |25.05.2022 05:32|25.05.2022 05:33:28|          PROGNOSE|25.05.2022 05:32|25.05.2022 05:33:32|              REAL|        false|2022|    5|\n",
      "| 30.04.2022| 85:793:5012-505|      85:793|         BOGG|Busbetrieb Olten-...|       BUS|85:793:505|        505|     5051|                  B|         false|        false|8500383|                 |30.04.2022 06:14|30.04.2022 06:14:22|          PROGNOSE|30.04.2022 06:14|30.04.2022 06:14:26|              REAL|        false|2022|    4|\n",
      "+-----------+----------------+------------+-------------+--------------------+----------+----------+-----------+---------+-------------------+--------------+-------------+-------+-----------------+----------------+-------------------+------------------+----------------+-------------------+------------------+-------------+----+-----+\n",
      "only showing top 3 rows\n",
      "\n",
      "None\n",
      "observations stops: 274887\n",
      "+-------+--------------------+---------------+--------------+-------------+--------------+----+-----+---+\n",
      "|stop_id|           stop_name|       stop_lat|      stop_lon|location_type|parent_station|year|month|day|\n",
      "+-------+--------------------+---------------+--------------+-------------+--------------+----+-----+---+\n",
      "|1100008|Zell (Wiesental),...|47.710084270235|7.859647882747|             | Parent1100008|2024|    1| 31|\n",
      "|1100009|Zell (Wiesental),...|47.713191104479|7.862908767228|             | Parent1100009|2024|    1| 31|\n",
      "|1100010|           Atzenbach|47.714617526641|7.872350060866|             | Parent1100010|2024|    1| 31|\n",
      "+-------+--------------------+---------------+--------------+-------------+--------------+----+-----+---+\n",
      "only showing top 3 rows\n",
      "\n",
      "None\n",
      "observations stop_times: 48262031\n",
      "+--------------------+------------+--------------+-------+-------------+-----------+-------------+----+-----+---+\n",
      "|             trip_id|arrival_time|departure_time|stop_id|stop_sequence|pickup_type|drop_off_type|year|month|day|\n",
      "+--------------------+------------+--------------+-------+-------------+-----------+-------------+----+-----+---+\n",
      "|89.TA.92-62-B-j24...|    14:57:00|      14:57:00|8594677|            4|          0|            0|2024|    1| 10|\n",
      "|89.TA.92-62-B-j24...|    14:58:00|      14:58:00|8594676|            5|          0|            0|2024|    1| 10|\n",
      "|89.TA.92-62-B-j24...|    14:59:00|      14:59:00|8594675|            6|          0|            0|2024|    1| 10|\n",
      "+--------------------+------------+--------------+-------+-------------+-----------+-------------+----+-----+---+\n",
      "only showing top 3 rows\n",
      "\n",
      "None\n",
      "observations calendar: 90402\n",
      "+----------+------+-------+---------+--------+------+--------+------+----------+--------+----+-----+---+\n",
      "|service_id|monday|tuesday|wednesday|thursday|friday|saturday|sunday|start_date|end_date|year|month|day|\n",
      "+----------+------+-------+---------+--------+------+--------+------+----------+--------+----+-----+---+\n",
      "|        TA|  TRUE|   TRUE|     TRUE|    TRUE|  TRUE|    TRUE|  TRUE|  20231210|20241214|2024|    1| 31|\n",
      "|  TA+001e0|  TRUE|   TRUE|     TRUE|    TRUE|  TRUE|   FALSE| FALSE|  20231210|20241214|2024|    1| 31|\n",
      "|  TA+00200|  TRUE|  FALSE|    FALSE|   FALSE|  TRUE|   FALSE| FALSE|  20231210|20241214|2024|    1| 31|\n",
      "+----------+------+-------+---------+--------+------+--------+------+----------+--------+----+-----+---+\n",
      "only showing top 3 rows\n",
      "\n",
      "None\n",
      "observations regions: 2306\n",
      "+--------+------------------+--------------------+-------+------+\n",
      "|objectid|              name|            geometry|country|region|\n",
      "+--------+------------------+--------------------+-------+------+\n",
      "|     117|            Ticino|[00 00 10 E6 03 1...|     CH|    TI|\n",
      "|    1059|          Magliaso|[00 00 10 E6 03 1...|     CH|    TI|\n",
      "|    1069|Terre di Pedemonte|[00 00 10 E6 03 1...|     CH|    TI|\n",
      "+--------+------------------+--------------------+-------+------+\n",
      "only showing top 3 rows\n",
      "\n",
      "None\n",
      "observations trips: 283229097\n",
      "+-----------+----------+--------------------+-------------+---------------+------------+----+-----+---+\n",
      "|   route_id|service_id|             trip_id|trip_headsign|trip_short_name|direction_id|year|month|day|\n",
      "+-----------+----------+--------------------+-------------+---------------+------------+----+-----+---+\n",
      "|10-25-j20-1|  TA+b07eu|1.TA.10-25-j20-1.1.R|    Zürich HB|          30544|           1|2020|   10| 15|\n",
      "|10-25-j20-1|  TA+b0jlt|10.TA.10-25-j20-1...|    Zürich HB|          20524|           1|2020|   10| 15|\n",
      "|10-25-j20-1|  TA+b173r|100.TA.10-25-j20-...|      Linthal|          20527|           0|2020|   10| 15|\n",
      "+-----------+----------+--------------------+-------------+---------------+------------+----+-----+---+\n",
      "only showing top 3 rows\n",
      "\n",
      "None"
     ]
    }
   ],
   "source": [
    "# import data\n",
    "istdaten = spark.sql(f\"\"\"\n",
    "SELECT * FROM com490.sbb_orc_istdaten WHERE SUBSTR(bpuic, 1, 7) IN (SELECT DISTINCT stop_id FROM com490final.sbb_orc_stops)\n",
    "\"\"\", header=True) # select only bpuic in common with stop_id\n",
    "stops = spark.sql(f\"SELECT * FROM com490final.sbb_orc_stops WHERE year = 2024 and month = 1\", header=True)\n",
    "stop_times = spark.sql(f\"SELECT * FROM com490final.sbb_orc_stop_times WHERE year = 2024 and month = 1\", header=True)\n",
    "calendar = spark.sql(f\"SELECT * FROM com490final.sbb_orc_calendar WHERE year = 2024 and month = 1\", header=True)\n",
    "regions = spark.sql(f\"SELECT * FROM com490final.geo_shapes\", header=True)\n",
    "trips = spark.sql(f\"SELECT * FROM com490final.sbb_orc_trips\", header=True)\n",
    "\n",
    "# show format\n",
    "print(f\"observations istdaten: {istdaten.count()}\")\n",
    "print(istdaten.show(n=3))\n",
    "\n",
    "print(f\"observations stops: {stops.count()}\")\n",
    "print(stops.show(n=3))\n",
    "\n",
    "print(f\"observations stop_times: {stop_times.count()}\")\n",
    "print(stop_times.show(n=3))\n",
    "\n",
    "print(f\"observations calendar: {calendar.count()}\")\n",
    "print(calendar.show(n=3))\n",
    "\n",
    "print(f\"observations regions: {regions.count()}\")\n",
    "print(regions.show(n=3))\n",
    "\n",
    "print(f\"observations trips: {trips.count()}\")\n",
    "print(trips.show(n=3))"
   ]
  },
  {
   "cell_type": "markdown",
   "id": "4b6272fb-26c7-46db-bbcc-6daa171e3117",
   "metadata": {},
   "source": [
    "# Create datasets"
   ]
  },
  {
   "cell_type": "code",
   "execution_count": 10,
   "id": "4c345c95-bae4-4983-8a3a-719e18e9037e",
   "metadata": {},
   "outputs": [
    {
     "data": {
      "application/vnd.jupyter.widget-view+json": {
       "model_id": "",
       "version_major": 2,
       "version_minor": 0
      },
      "text/plain": [
       "FloatProgress(value=0.0, bar_style='info', description='Progress:', layout=Layout(height='25px', width='50%'),…"
      ]
     },
     "metadata": {},
     "output_type": "display_data"
    }
   ],
   "source": [
    "# import spark functions\n",
    "from pyspark.sql import functions as F\n",
    "from pyspark.sql import Window"
   ]
  },
  {
   "cell_type": "code",
   "execution_count": 11,
   "id": "8e8da3ce-804b-4af2-9055-afcf25d442fd",
   "metadata": {},
   "outputs": [
    {
     "data": {
      "application/vnd.jupyter.widget-view+json": {
       "model_id": "",
       "version_major": 2,
       "version_minor": 0
      },
      "text/plain": [
       "FloatProgress(value=0.0, bar_style='info', description='Progress:', layout=Layout(height='25px', width='50%'),…"
      ]
     },
     "metadata": {},
     "output_type": "display_data"
    }
   ],
   "source": [
    "def get_region(regions, id=2056): # Lausanne\n",
    "    region_df = regions.filter(F.col(\"objectid\") == id)\n",
    "    return region_df\n",
    "\n",
    "def stops_in_region(region, stops):\n",
    "    return stops.join(region, F.expr(\"ST_Contains(geometry, ST_Point(stop_lon, stop_lat))\"))\n",
    "\n",
    "def get_time(col:str, data):\n",
    "    # get time in format HH:MM:SS\n",
    "    temp = data.withColumn(col, F.split(col, \" \").getItem(1))\n",
    "    return temp"
   ]
  },
  {
   "cell_type": "code",
   "execution_count": 12,
   "id": "68a11618-e60a-41fb-ae2a-d7d382182198",
   "metadata": {},
   "outputs": [
    {
     "data": {
      "application/vnd.jupyter.widget-view+json": {
       "model_id": "",
       "version_major": 2,
       "version_minor": 0
      },
      "text/plain": [
       "FloatProgress(value=0.0, bar_style='info', description='Progress:', layout=Layout(height='25px', width='50%'),…"
      ]
     },
     "metadata": {},
     "output_type": "display_data"
    }
   ],
   "source": [
    "def create_data_graph(stop_data):\n",
    "    data_prediction = stop_data.alias(\"data_prediction\")\n",
    "    \n",
    "    # create stop sequence column\n",
    "    windowSpec = Window.partitionBy('fahrt_bezeichner').orderBy('abfahrtszeit')\n",
    "    data_prediction = data_prediction.withColumn('stop_sequence', F.row_number().over(windowSpec))\n",
    "    \n",
    "    # make each row a (stop_from, stop_to), i.e., an edge\n",
    "    trip_window = Window.partitionBy(['fahrt_bezeichner']).orderBy('stop_sequence')\n",
    "    \n",
    "    df = data_prediction.withColumn(\"stop_id_from\", F.lag('stop_id', 1).over(trip_window))\n",
    "    df = df.withColumn(\"departure_time\", F.lag('abfahrtszeit', 1).over(trip_window))\n",
    "    df = df.withColumn(\"stop_name_from\", F.lag('stop_name', 1).over(trip_window))\n",
    "    \n",
    "    df = df.withColumnRenamed(\"stop_id\", \"stop_id_to\")\n",
    "    df = df.withColumnRenamed(\"stop_name\", \"stop_name_to\")\n",
    "    \n",
    "    # Only consider edges with a source different than the destination\n",
    "    df = df.filter(df.stop_id_from != df.stop_id_to)\n",
    "    \n",
    "    # Remove Null value we got from using lag\n",
    "    df = df.filter(df.stop_id_from.isNotNull())\n",
    "    df = df.filter(df.departure_time.isNotNull())\n",
    "    df = df.filter(df.stop_name_from.isNotNull())\n",
    "    \n",
    "    # Only keep the columns of interest\n",
    "    journey = df.select(\"fahrt_bezeichner\",\n",
    "                        \"stop_id_from\", \"stop_name_from\",\n",
    "                        \"stop_id_to\", \"stop_name_to\", \n",
    "                        \"departure_time\", \"ankunftszeit\",\n",
    "                        \"produkt_id\")\n",
    "    # journey = journey.withColumnRenamed(\"departure_time_from\", \"departure_time\")\n",
    "    journey = journey.withColumnRenamed(\"fahrt_bezeichner\", \"trip_id\")\n",
    "    journey = journey.withColumnRenamed(\"produkt_id\", \"transport_mode\")\n",
    "    journey = journey.withColumnRenamed(\"ankunftszeit\", \"arrival_time\")\n",
    "    \n",
    "    \n",
    "    return journey"
   ]
  },
  {
   "cell_type": "code",
   "execution_count": 13,
   "id": "d8a100e9-6290-4da9-9691-46e169ef96f6",
   "metadata": {},
   "outputs": [
    {
     "data": {
      "application/vnd.jupyter.widget-view+json": {
       "model_id": "",
       "version_major": 2,
       "version_minor": 0
      },
      "text/plain": [
       "FloatProgress(value=0.0, bar_style='info', description='Progress:', layout=Layout(height='25px', width='50%'),…"
      ]
     },
     "metadata": {},
     "output_type": "display_data"
    }
   ],
   "source": [
    "def create_data_prediction(istdaten, stops_region, day, month, hour_min, hour_max, year):\n",
    "    istdaten_specific = istdaten.withColumn(\"betriebstag\", F.to_date(\"betriebstag\", \"dd.MM.yyyy\"))\n",
    "    istdaten_specific = istdaten_specific.filter(F.col(\"year\") == year) # year\n",
    "    istdaten_specific = istdaten_specific.filter(F.col(\"month\") == month) # month\n",
    "    istdaten_specific = istdaten_specific.filter(F.dayofweek(F.col(\"betriebstag\")) == day) # mondays\n",
    "    istdaten_specific = istdaten_specific.withColumn(\"day_cat\", F.date_format(\"betriebstag\", \"EEEE\"))\n",
    "    istdaten_specific = istdaten_specific.withColumn(\"hour\", F.hour(F.split(\"ankunftszeit\", \" \").getItem(1))) # get hours\n",
    "    istdaten_specific = istdaten_specific.filter((F.col(\"hour\") >= hour_min) & (F.col(\"hour\") <= hour_max)) # truncate to reasonable hours\n",
    "    istdaten_specific = istdaten_specific.withColumn(\"day\", F.split(F.col(\"ankunftszeit\"), \" \").getItem(0).substr(1, 2))\n",
    "    \n",
    "    # select relevant columns\n",
    "    istdaten_specific = istdaten_specific.select([\n",
    "                                \"fahrt_bezeichner\", # trip id\n",
    "                                \"umlauf_id\",\n",
    "                                \"linien_text\", # line\n",
    "                                \"produkt_id\", # mean of transport\n",
    "                                \"faellt_aus_tf\", # cancelled (bool)\n",
    "                                \"bpuic\", # id\n",
    "                                \"ankunftszeit\", \"an_prognose\", # arrival time, true arrival time\n",
    "                                \"abfahrtszeit\", \"ab_prognose\", # departure time, true departure time\n",
    "                                \"day_cat\", \"month\", \"hour\"\n",
    "    ])\n",
    "    \n",
    "    # get departure/arrival times only\n",
    "    istdaten_formatted = istdaten_specific.alias(\"istdaten_formatted\")\n",
    "    \n",
    "    istdaten_formatted = get_time(\"ankunftszeit\", istdaten_formatted) # arrival time\n",
    "    istdaten_formatted = get_time(\"an_prognose\", istdaten_formatted) # actual arrival time\n",
    "    istdaten_formatted = get_time(\"abfahrtszeit\", istdaten_formatted) # arrival time\n",
    "    istdaten_formatted = get_time(\"ab_prognose\", istdaten_formatted) # actual arrival time\n",
    "    \n",
    "    # time format\n",
    "    istdaten_formatted = istdaten_formatted.withColumn(\"ankunftszeit_sec\", F.unix_timestamp(F.col(\"ankunftszeit\"), \"HH:mm\"))\n",
    "    istdaten_formatted = istdaten_formatted.withColumn(\"an_prognose_sec\", F.unix_timestamp(F.col(\"an_prognose\"), \"HH:mm:ss\"))\n",
    "    istdaten_formatted = istdaten_formatted.withColumn(\"abfahrtszeit_sec\", F.unix_timestamp(F.col(\"abfahrtszeit\"), \"HH:mm\"))\n",
    "    istdaten_formatted = istdaten_formatted.withColumn(\"ab_prognose_sec\", F.unix_timestamp(F.col(\"ab_prognose\"), \"HH:mm:ss\"))\n",
    "    \n",
    "    # compute delay (in minutes): expected arrival time at stop - actual arrival time at stop\n",
    "    istdaten_formatted = istdaten_formatted.withColumn(\"delay\", (F.col(\"an_prognose_sec\") - F.col(\"ankunftszeit_sec\"))/60)\n",
    "\n",
    "    # remove null delay (otherwise not usable)\n",
    "    istdaten_formatted = istdaten_formatted.dropna(subset=[\"delay\"])\n",
    "    \n",
    "    # select relevant columns\n",
    "    stops_region_data = stops_region.select([\"stop_id\", \"stop_lat\", \"stop_lon\", \"stop_name\", \"parent_station\"])\n",
    "    \n",
    "    # add geography (ie selects stops of istdaten in region) to istdaten\n",
    "    df = istdaten_formatted.join(stops_region_data, F.substring(istdaten_formatted[\"bpuic\"], 1, 7) == stops_region_data[\"stop_id\"], how=\"inner\")\n",
    "    \n",
    "    # add boolean delay 5 minutes\n",
    "    df = df.withColumn(\"delay_bool\", F.col(\"delay\") >= 5)\n",
    "    \n",
    "    # reorder columns\n",
    "    ordered_columns = [\"fahrt_bezeichner\", 'linien_text', 'parent_station', 'produkt_id', 'bpuic', 'stop_id',\n",
    "                       'month', 'hour', 'day_cat',\n",
    "                       \"ankunftszeit\", \"an_prognose\", # arrival time, true arrival time\n",
    "                       \"abfahrtszeit\", \"ab_prognose\", # departure time, true departure time\n",
    "                       \"ankunftszeit_sec\", \"an_prognose_sec\", # arrival time, true arrival time\n",
    "                        \"abfahrtszeit_sec\", \"ab_prognose_sec\", # departure time, true departure time\n",
    "                       'stop_lat', 'stop_lon', 'stop_name', \n",
    "                       'delay_bool', 'delay']\n",
    "    df = df.select(ordered_columns)\n",
    "    return df"
   ]
  },
  {
   "cell_type": "markdown",
   "id": "e8fe3faa-f92c-4a55-9945-b9a5783a2d2f",
   "metadata": {},
   "source": [
    "# Execute code"
   ]
  },
  {
   "cell_type": "code",
   "execution_count": 14,
   "id": "9718ff90-d687-45b0-836a-bd4f4d672669",
   "metadata": {},
   "outputs": [
    {
     "data": {
      "application/vnd.jupyter.widget-view+json": {
       "model_id": "",
       "version_major": 2,
       "version_minor": 0
      },
      "text/plain": [
       "FloatProgress(value=0.0, bar_style='info', description='Progress:', layout=Layout(height='25px', width='50%'),…"
      ]
     },
     "metadata": {},
     "output_type": "display_data"
    }
   ],
   "source": [
    "# only keep stops in region\n",
    "region_geometry = get_region(regions, region_id)\n",
    "stops_region = stops_in_region(region_geometry, stops)"
   ]
  },
  {
   "cell_type": "code",
   "execution_count": 15,
   "id": "e03a3e87-123e-4f3c-a9df-ed8d8a817efd",
   "metadata": {},
   "outputs": [
    {
     "data": {
      "application/vnd.jupyter.widget-view+json": {
       "model_id": "",
       "version_major": 2,
       "version_minor": 0
      },
      "text/plain": [
       "FloatProgress(value=0.0, bar_style='info', description='Progress:', layout=Layout(height='25px', width='50%'),…"
      ]
     },
     "metadata": {},
     "output_type": "display_data"
    },
    {
     "name": "stdout",
     "output_type": "stream",
     "text": [
      "1365180\n",
      "+----------------+-----------+--------------+----------+-------+-------+-----+----+-------+------------+-----------+------------+-----------+----------------+---------------+----------------+---------------+---------------+--------------+------------------+----------+--------------------+\n",
      "|fahrt_bezeichner|linien_text|parent_station|produkt_id|  bpuic|stop_id|month|hour|day_cat|ankunftszeit|an_prognose|abfahrtszeit|ab_prognose|ankunftszeit_sec|an_prognose_sec|abfahrtszeit_sec|ab_prognose_sec|       stop_lat|      stop_lon|         stop_name|delay_bool|               delay|\n",
      "+----------------+-----------+--------------+----------+-------+-------+-----+----+-------+------------+-----------+------------+-----------+----------------+---------------+----------------+---------------+---------------+--------------+------------------+----------+--------------------+\n",
      "|   85:55:104:000|        R20| Parent8501160|       Zug|8501160|8501160|    1|   6| Monday|       06:03|   06:02:31|       06:03|   06:03:31|           18180|          18151|           18180|          18211|46.523227857021|6.626063368116|Lausanne-Chauderon|     false|-0.48333333333333334|\n",
      "|   85:55:104:000|        R20| Parent8501160|       Zug|8501160|8501160|    1|   6| Monday|       06:03|   06:02:31|       06:03|   06:03:31|           18180|          18151|           18180|          18211|46.523227857021|6.626063368116|Lausanne-Chauderon|     false|-0.48333333333333334|\n",
      "|   85:55:104:000|        R20| Parent8501160|       Zug|8501160|8501160|    1|   6| Monday|       06:03|   06:02:31|       06:03|   06:03:31|           18180|          18151|           18180|          18211|46.523227857021|6.626063368116|Lausanne-Chauderon|     false|-0.48333333333333334|\n",
      "|   85:55:104:000|        R20| Parent8501160|       Zug|8501160|8501160|    1|   6| Monday|       06:03|   06:02:31|       06:03|   06:03:31|           18180|          18151|           18180|          18211|46.523227857021|6.626063368116|Lausanne-Chauderon|     false|-0.48333333333333334|\n",
      "|   85:55:104:000|        R20| Parent8501160|       Zug|8501160|8501160|    1|   6| Monday|       06:03|   06:02:31|       06:03|   06:03:31|           18180|          18151|           18180|          18211|46.523227857021|6.626063368116|Lausanne-Chauderon|     false|-0.48333333333333334|\n",
      "+----------------+-----------+--------------+----------+-------+-------+-----+----+-------+------------+-----------+------------+-----------+----------------+---------------+----------------+---------------+---------------+--------------+------------------+----------+--------------------+\n",
      "only showing top 5 rows"
     ]
    }
   ],
   "source": [
    "# dataframe prediction\n",
    "data_prediction = create_data_prediction(istdaten, stops_region, day=2, month=1, hour_min=6, hour_max=22, year=2024)\n",
    "print(data_prediction.count())\n",
    "data_prediction.show(n=5)"
   ]
  },
  {
   "cell_type": "code",
   "execution_count": 16,
   "id": "0fffa647-7416-4805-9bc2-016c76d7722d",
   "metadata": {},
   "outputs": [
    {
     "data": {
      "application/vnd.jupyter.widget-view+json": {
       "model_id": "",
       "version_major": 2,
       "version_minor": 0
      },
      "text/plain": [
       "FloatProgress(value=0.0, bar_style='info', description='Progress:', layout=Layout(height='25px', width='50%'),…"
      ]
     },
     "metadata": {},
     "output_type": "display_data"
    },
    {
     "name": "stdout",
     "output_type": "stream",
     "text": [
      "88977\n",
      "+--------------------+------------+--------------------+----------+--------------------+--------------+------------+--------------+\n",
      "|             trip_id|stop_id_from|      stop_name_from|stop_id_to|        stop_name_to|departure_time|arrival_time|transport_mode|\n",
      "+--------------------+------------+--------------------+----------+--------------------+--------------+------------+--------------+\n",
      "|85:151:TL001-4506...|     8592114|   Lausanne, Sablons|   8591995|Lausanne, Bois de...|         16:15|       16:16|           Bus|\n",
      "|85:151:TL001-4506...|     8591995|Lausanne, Bois de...|   8592068| Lausanne, Maladière|         16:16|       16:19|           Bus|\n",
      "|85:151:TL001-4506...|     8592068| Lausanne, Maladière|   8592080|   Lausanne, Montoie|         16:19|       16:20|           Bus|\n",
      "|85:151:TL001-4506...|     8592080|   Lausanne, Montoie|   8592110|Lausanne, Riant-Cour|         16:20|       16:22|           Bus|\n",
      "|85:151:TL001-4506...|     8592110|Lausanne, Riant-Cour|   8591983| Lausanne, Batelière|         16:22|       16:22|           Bus|\n",
      "+--------------------+------------+--------------------+----------+--------------------+--------------+------------+--------------+\n",
      "only showing top 5 rows"
     ]
    }
   ],
   "source": [
    "# dataframe graph\n",
    "data_graph = create_data_graph(data_prediction)\n",
    "print(data_graph.count())\n",
    "data_graph.show(n=5)"
   ]
  },
  {
   "cell_type": "code",
   "execution_count": 17,
   "id": "0ebee431-afe5-42ab-8bf9-46047d94d0c2",
   "metadata": {
    "scrolled": true
   },
   "outputs": [
    {
     "data": {
      "application/vnd.jupyter.widget-view+json": {
       "model_id": "",
       "version_major": 2,
       "version_minor": 0
      },
      "text/plain": [
       "FloatProgress(value=0.0, bar_style='info', description='Progress:', layout=Layout(height='25px', width='50%'),…"
      ]
     },
     "metadata": {},
     "output_type": "display_data"
    }
   ],
   "source": [
    "# stops_region_data = stops_region.select([\"stop_id\", \"stop_lat\", \"stop_lon\", \"stop_name\"])\n",
    "# istdaten_region_data = istdaten.join(stops_region_data, F.substring(istdaten[\"bpuic\"], 1, 7) == stops_region_data[\"stop_id\"], how=\"inner\")"
   ]
  },
  {
   "cell_type": "code",
   "execution_count": 18,
   "id": "c30275a6-9248-46dc-b81d-cc2f7c595a01",
   "metadata": {},
   "outputs": [
    {
     "data": {
      "application/vnd.jupyter.widget-view+json": {
       "model_id": "",
       "version_major": 2,
       "version_minor": 0
      },
      "text/plain": [
       "FloatProgress(value=0.0, bar_style='info', description='Progress:', layout=Layout(height='25px', width='50%'),…"
      ]
     },
     "metadata": {},
     "output_type": "display_data"
    }
   ],
   "source": [
    "# istdaten_region_data.printSchema()"
   ]
  },
  {
   "cell_type": "code",
   "execution_count": 27,
   "id": "e603479f-7fdf-412d-b4d1-094752898a7e",
   "metadata": {},
   "outputs": [
    {
     "data": {
      "application/vnd.jupyter.widget-view+json": {
       "model_id": "",
       "version_major": 2,
       "version_minor": 0
      },
      "text/plain": [
       "FloatProgress(value=0.0, bar_style='info', description='Progress:', layout=Layout(height='25px', width='50%'),…"
      ]
     },
     "metadata": {},
     "output_type": "display_data"
    },
    {
     "name": "stdout",
     "output_type": "stream",
     "text": [
      "+-----------------------------+--------------+---------+--------------+------------+-------+---------------+-------------+------------------+\n",
      "|trip_id                      |transport_mode|line_text|departure_time|arrival_time|stop_id|stop_lat       |stop_lon     |stop_name         |\n",
      "+-----------------------------+--------------+---------+--------------+------------+-------+---------------+-------------+------------------+\n",
      "|85:151:TL016-4506262507511760|Bus           |16       |06:48         |06:48       |8501207|46.521824762755|6.61355881936|Lausanne, Montelly|\n",
      "|85:151:TL016-4506262507511760|Bus           |16       |06:48         |06:48       |8501207|46.521824762755|6.61355881936|Lausanne, Montelly|\n",
      "|85:151:TL016-4506262507511760|Bus           |16       |06:48         |06:48       |8501207|46.521824762755|6.61355881936|Lausanne, Montelly|\n",
      "|85:151:TL016-4506262507511760|Bus           |16       |06:48         |06:48       |8501207|46.521824762755|6.61355881936|Lausanne, Montelly|\n",
      "|85:151:TL016-4506262507511760|Bus           |16       |06:48         |06:48       |8501207|46.521824762755|6.61355881936|Lausanne, Montelly|\n",
      "+-----------------------------+--------------+---------+--------------+------------+-------+---------------+-------------+------------------+\n",
      "only showing top 5 rows"
     ]
    }
   ],
   "source": [
    "columns = [\"fahrt_bezeichner\", \"produkt_id\", \"linien_text\", \"abfahrtszeit\", \"ankunftszeit\", \"stop_id\", \"stop_lat\", \"stop_lon\", \"stop_name\"]\n",
    "istdaten_region_data = data_prediction.select(columns) # istdaten_region_data.select\n",
    "\n",
    "# We want to rename the columns so that it corresponds to the other dataframes\n",
    "istdaten_region_data = istdaten_region_data.withColumnRenamed(\"fahrt_bezeichner\", \"trip_id\")\n",
    "istdaten_region_data = istdaten_region_data.withColumnRenamed(\"produkt_id\", \"transport_mode\")\n",
    "# istdaten_region_data = istdaten_region_data.withColumnRenamed(\"linien_id\", \"line_id\")\n",
    "istdaten_region_data = istdaten_region_data.withColumnRenamed(\"linien_text\", \"line_text\")\n",
    "istdaten_region_data = istdaten_region_data.withColumnRenamed(\"abfahrtszeit\", \"departure_time\")\n",
    "istdaten_region_data = istdaten_region_data.withColumnRenamed(\"ankunftszeit\", \"arrival_time\")\n",
    "\n",
    "istdaten_region_data.show(n=5, truncate=False)"
   ]
  },
  {
   "cell_type": "markdown",
   "id": "ec99a26d-6418-41dd-aff0-cba22becb222",
   "metadata": {},
   "source": [
    "# Save datasets\n",
    "\n",
    "\n",
    "Check existing files."
   ]
  },
  {
   "cell_type": "code",
   "execution_count": 28,
   "id": "bf23aafe-40bf-491f-8445-3fbd0610726b",
   "metadata": {},
   "outputs": [
    {
     "data": {
      "application/vnd.jupyter.widget-view+json": {
       "model_id": "",
       "version_major": 2,
       "version_minor": 0
      },
      "text/plain": [
       "FloatProgress(value=0.0, bar_style='info', description='Progress:', layout=Layout(height='25px', width='50%'),…"
      ]
     },
     "metadata": {},
     "output_type": "display_data"
    },
    {
     "name": "stdout",
     "output_type": "stream",
     "text": [
      "coefficients_lr\n",
      "coefficients_lr.csv\n",
      "orc_data_bern_feb\n",
      "orc_data_bern_feb.orc\n",
      "orc_data_graph_one_day_lausanne\n",
      "orc_data_pred_delay_jan_lausanne\n",
      "orc_data_pred_delay_jan_lausanne.orc\n",
      "orc_data_pred_delay_lausanne\n",
      "orc_data_pred_delay_lausanne.orc\n",
      "orc_data_train\n",
      "orc_data_train.orc"
     ]
    }
   ],
   "source": [
    "# livy\n",
    "hdfs_path = f\"/user/{username}/livy\"\n",
    "\n",
    "hadoop_conf = spark.sparkContext._jsc.hadoopConfiguration()\n",
    "fs = spark._jvm.org.apache.hadoop.fs.FileSystem.get(hadoop_conf)\n",
    "\n",
    "# List files in the directory\n",
    "path = spark._jvm.org.apache.hadoop.fs.Path(hdfs_path)\n",
    "file_status = fs.listStatus(path)\n",
    "files = [file.getPath().getName() for file in file_status]\n",
    "\n",
    "# Print the list of files\n",
    "for file in files:\n",
    "    print(file)"
   ]
  },
  {
   "cell_type": "code",
   "execution_count": 9,
   "id": "15ef5966-63e1-4d49-9b7b-3adbddd8b491",
   "metadata": {},
   "outputs": [
    {
     "data": {
      "application/vnd.jupyter.widget-view+json": {
       "model_id": "",
       "version_major": 2,
       "version_minor": 0
      },
      "text/plain": [
       "FloatProgress(value=0.0, bar_style='info', description='Progress:', layout=Layout(height='25px', width='50%'),…"
      ]
     },
     "metadata": {},
     "output_type": "display_data"
    },
    {
     "name": "stdout",
     "output_type": "stream",
     "text": [
      "+---------+--------------------+-----------+\n",
      "|namespace|           tableName|isTemporary|\n",
      "+---------+--------------------+-----------+\n",
      "| leclercq|    sbb_orc_istdaten|      false|\n",
      "| leclercq|      sbb_orc_delays|      false|\n",
      "| leclercq|   sbb_orc_delays_tb|      false|\n",
      "| leclercq|       sbb_orc_stops|      false|\n",
      "| leclercq| sbb_orc_delays_join|      false|\n",
      "| leclercq|        epd_expr_csv|      false|\n",
      "| leclercq|         epd_sam_csv|      false|\n",
      "| leclercq|  sbb_stops_lausanne|      false|\n",
      "| leclercq|          geo_shapes|      false|\n",
      "| leclercq|   sbb_orc_one_month|      false|\n",
      "| leclercq|sbb_stops_lausann...|      false|\n",
      "| leclercq|sbb_stop_to_stop_...|      false|\n",
      "| leclercq|sbb_stop_times_la...|      false|\n",
      "| leclercq|           sbb_times|      false|\n",
      "| leclercq|sbb_istdaten_stop...|      false|\n",
      "| leclercq|   orc_data_bern_feb|      false|\n",
      "| leclercq|orc_data_pred_del...|      false|\n",
      "| leclercq|orc_data_graph_la...|      false|\n",
      "| leclercq|orc_data_pred_del...|      false|\n",
      "| leclercq|orc_data_predicti...|      false|\n",
      "+---------+--------------------+-----------+\n",
      "only showing top 20 rows"
     ]
    }
   ],
   "source": [
    "# show tables in hive/hdfs\n",
    "spark.sql(f\"SHOW TABLES IN {username}\").show()"
   ]
  },
  {
   "cell_type": "markdown",
   "id": "5d3edd72-cefc-4751-8977-bd583fd032fb",
   "metadata": {},
   "source": [
    "### Write files to livy"
   ]
  },
  {
   "cell_type": "code",
   "execution_count": 30,
   "id": "cb92f3a7-e8ac-45cc-989d-18d835e208ad",
   "metadata": {},
   "outputs": [
    {
     "data": {
      "application/vnd.jupyter.widget-view+json": {
       "model_id": "",
       "version_major": 2,
       "version_minor": 0
      },
      "text/plain": [
       "FloatProgress(value=0.0, bar_style='info', description='Progress:', layout=Layout(height='25px', width='50%'),…"
      ]
     },
     "metadata": {},
     "output_type": "display_data"
    }
   ],
   "source": [
    "# write data\n",
    "data_prediction.write.orc(path=f\"/user/{username}/livy/orc_data_prediction_one_day_{region_name}\", mode=\"overwrite\")\n",
    "data_graph.write.orc(path=f\"/user/{username}/livy/orc_data_graph_one_day_{region_name}\", mode=\"overwrite\")\n",
    "istdaten_region_data.write.orc(path=f\"/user/{username}/livy/orc_data_istdaten_{region_name}\", mode=\"overwrite\")"
   ]
  },
  {
   "cell_type": "code",
   "execution_count": 10,
   "id": "fe3fccde-5778-4830-b408-b97cd49cf297",
   "metadata": {},
   "outputs": [
    {
     "data": {
      "application/vnd.jupyter.widget-view+json": {
       "model_id": "",
       "version_major": 2,
       "version_minor": 0
      },
      "text/plain": [
       "FloatProgress(value=0.0, bar_style='info', description='Progress:', layout=Layout(height='25px', width='50%'),…"
      ]
     },
     "metadata": {},
     "output_type": "display_data"
    },
    {
     "name": "stdout",
     "output_type": "stream",
     "text": [
      "+----------------+-----------+--------------+----------+-------+-------+-----+----+-------+------------+-----------+------------+-----------+----------------+---------------+----------------+---------------+---------------+--------------+-------------+----------+-------------------+\n",
      "|fahrt_bezeichner|linien_text|parent_station|produkt_id|  bpuic|stop_id|month|hour|day_cat|ankunftszeit|an_prognose|abfahrtszeit|ab_prognose|ankunftszeit_sec|an_prognose_sec|abfahrtszeit_sec|ab_prognose_sec|       stop_lat|      stop_lon|    stop_name|delay_bool|              delay|\n",
      "+----------------+-----------+--------------+----------+-------+-------+-----+----+-------+------------+-----------+------------+-----------+----------------+---------------+----------------+---------------+---------------+--------------+-------------+----------+-------------------+\n",
      "|   85:55:104:000|        R20| Parent8501181|       Zug|8501181|8501181|    1|   6| Monday|       06:05|   06:04:08|        null|       null|           18300|          18248|            null|           null|46.520798688504|6.630339348869|Lausanne-Flon|     false|-0.8666666666666667|\n",
      "|   85:55:104:000|        R20| Parent8501181|       Zug|8501181|8501181|    1|   6| Monday|       06:05|   06:04:08|        null|       null|           18300|          18248|            null|           null|46.520798688504|6.630339348869|Lausanne-Flon|     false|-0.8666666666666667|\n",
      "|   85:55:104:000|        R20| Parent8501181|       Zug|8501181|8501181|    1|   6| Monday|       06:05|   06:04:08|        null|       null|           18300|          18248|            null|           null|46.520798688504|6.630339348869|Lausanne-Flon|     false|-0.8666666666666667|\n",
      "|   85:55:104:000|        R20| Parent8501181|       Zug|8501181|8501181|    1|   6| Monday|       06:05|   06:04:08|        null|       null|           18300|          18248|            null|           null|46.520798688504|6.630339348869|Lausanne-Flon|     false|-0.8666666666666667|\n",
      "|   85:55:104:000|        R20| Parent8501181|       Zug|8501181|8501181|    1|   6| Monday|       06:05|   06:04:08|        null|       null|           18300|          18248|            null|           null|46.520798688504|6.630339348869|Lausanne-Flon|     false|-0.8666666666666667|\n",
      "+----------------+-----------+--------------+----------+-------+-------+-----+----+-------+------------+-----------+------------+-----------+----------------+---------------+----------------+---------------+---------------+--------------+-------------+----------+-------------------+\n",
      "only showing top 5 rows\n",
      "\n",
      "None\n",
      "+--------------------+------------+-------------------+----------+-------------------+--------------+------------+--------------+\n",
      "|             trip_id|stop_id_from|     stop_name_from|stop_id_to|       stop_name_to|departure_time|arrival_time|transport_mode|\n",
      "+--------------------+------------+-------------------+----------+-------------------+--------------+------------+--------------+\n",
      "|85:151:TL001-4506...|     8592109| Lausanne, Recordon|   8592001|   Lausanne, Boston|         06:39|       06:40|           Bus|\n",
      "|85:151:TL001-4506...|     8592001|   Lausanne, Boston|   8592010|Lausanne, Chauderon|         06:40|       06:42|           Bus|\n",
      "|85:151:TL001-4506...|     8592010|Lausanne, Chauderon|   8591988|  Lausanne, Bel-Air|         06:42|       06:43|           Bus|\n",
      "|85:151:TL001-4506...|     8592109| Lausanne, Recordon|   8592001|   Lausanne, Boston|         07:02|       07:03|           Bus|\n",
      "|85:151:TL001-4506...|     8592001|   Lausanne, Boston|   8592010|Lausanne, Chauderon|         07:03|       07:05|           Bus|\n",
      "+--------------------+------------+-------------------+----------+-------------------+--------------+------------+--------------+\n",
      "only showing top 5 rows\n",
      "\n",
      "None\n",
      "+--------------+--------------+---------+--------------+------------+-------+---------------+--------------+---------+\n",
      "|       trip_id|transport_mode|line_text|departure_time|arrival_time|stop_id|       stop_lat|      stop_lon|stop_name|\n",
      "+--------------+--------------+---------+--------------+------------+-------+---------------+--------------+---------+\n",
      "|85:11:1504:001|           Zug|      IC5|          null|       06:45|8501120|46.516793104755|6.629090690624| Lausanne|\n",
      "|85:11:1504:001|           Zug|      IC5|          null|       06:45|8501120|46.516793104755|6.629090690624| Lausanne|\n",
      "|85:11:1504:001|           Zug|      IC5|          null|       06:45|8501120|46.516793104755|6.629090690624| Lausanne|\n",
      "|85:11:1504:001|           Zug|      IC5|          null|       06:45|8501120|46.516793104755|6.629090690624| Lausanne|\n",
      "|85:11:1504:001|           Zug|      IC5|          null|       06:45|8501120|46.516793104755|6.629090690624| Lausanne|\n",
      "+--------------+--------------+---------+--------------+------------+-------+---------------+--------------+---------+\n",
      "only showing top 5 rows\n",
      "\n",
      "None"
     ]
    }
   ],
   "source": [
    "# read data\n",
    "data_read = spark.read.orc(f\"/user/{username}/livy/orc_data_prediction_one_day_{region_name}\")\n",
    "print(data_read.show(n=5))\n",
    "\n",
    "data_read = spark.read.orc(f\"/user/{username}/livy/orc_data_graph_one_day_{region_name}\")\n",
    "print(data_read.show(n=5))\n",
    "\n",
    "data_read = spark.read.orc(f\"/user/{username}/livy/orc_data_istdaten_{region_name}\")\n",
    "print(data_read.show(n=5))"
   ]
  },
  {
   "cell_type": "markdown",
   "id": "fdd56036-20ac-403a-8fb7-d8eb3716b009",
   "metadata": {},
   "source": [
    "### Write files to hdfs/hive"
   ]
  },
  {
   "cell_type": "code",
   "execution_count": 32,
   "id": "bb33488b-14f9-49cb-b311-327516f6fa57",
   "metadata": {
    "scrolled": true
   },
   "outputs": [
    {
     "data": {
      "application/vnd.jupyter.widget-view+json": {
       "model_id": "",
       "version_major": 2,
       "version_minor": 0
      },
      "text/plain": [
       "FloatProgress(value=0.0, bar_style='info', description='Progress:', layout=Layout(height='25px', width='50%'),…"
      ]
     },
     "metadata": {},
     "output_type": "display_data"
    },
    {
     "name": "stdout",
     "output_type": "stream",
     "text": [
      "root\n",
      " |-- fahrt_bezeichner: string (nullable = true)\n",
      " |-- linien_text: string (nullable = true)\n",
      " |-- parent_station: string (nullable = true)\n",
      " |-- produkt_id: string (nullable = true)\n",
      " |-- bpuic: string (nullable = true)\n",
      " |-- stop_id: string (nullable = true)\n",
      " |-- month: integer (nullable = true)\n",
      " |-- hour: integer (nullable = true)\n",
      " |-- day_cat: string (nullable = true)\n",
      " |-- ankunftszeit: string (nullable = true)\n",
      " |-- an_prognose: string (nullable = true)\n",
      " |-- abfahrtszeit: string (nullable = true)\n",
      " |-- ab_prognose: string (nullable = true)\n",
      " |-- ankunftszeit_sec: long (nullable = true)\n",
      " |-- an_prognose_sec: long (nullable = true)\n",
      " |-- abfahrtszeit_sec: long (nullable = true)\n",
      " |-- ab_prognose_sec: long (nullable = true)\n",
      " |-- stop_lat: double (nullable = true)\n",
      " |-- stop_lon: double (nullable = true)\n",
      " |-- stop_name: string (nullable = true)\n",
      " |-- delay_bool: boolean (nullable = true)\n",
      " |-- delay: double (nullable = true)"
     ]
    }
   ],
   "source": [
    "data_prediction.printSchema()"
   ]
  },
  {
   "cell_type": "code",
   "execution_count": 12,
   "id": "1241ec2f-5645-4af1-9ccc-0a1e2042a622",
   "metadata": {},
   "outputs": [
    {
     "data": {
      "application/vnd.jupyter.widget-view+json": {
       "model_id": "",
       "version_major": 2,
       "version_minor": 0
      },
      "text/plain": [
       "FloatProgress(value=0.0, bar_style='info', description='Progress:', layout=Layout(height='25px', width='50%'),…"
      ]
     },
     "metadata": {},
     "output_type": "display_data"
    },
    {
     "name": "stdout",
     "output_type": "stream",
     "text": [
      "DataFrame[]"
     ]
    }
   ],
   "source": [
    "# create table to store data in HDFS\n",
    "hdfs_path = f\"/user/{username}/livy/orc_data_prediction_one_day_{region_name}\"\n",
    "\n",
    "spark.sql(f\"DROP TABLE IF EXISTS {username}.orc_data_predictions_one_day_{region_name}\")\n",
    "\n",
    "spark.sql(f\"\"\"\n",
    "CREATE EXTERNAL TABLE IF NOT EXISTS {username}.orc_data_prediction_one_day_{region_name}\n",
    "(\n",
    "    fahrt_bezeichner STRING,\n",
    "    linien_text STRING,\n",
    "    parent_station STRING,\n",
    "    produkt_id STRING,\n",
    "    bpuic STRING,\n",
    "    stop_id STRING,\n",
    "    month INT,\n",
    "    hour INT,\n",
    "    day_cat STRING,\n",
    "    ankunftszeit STRING,\n",
    "    an_prognose STRING,\n",
    "    abfahrtszeit STRING,\n",
    "    ab_prognose STRING,\n",
    "    ankunftszeit_sec FLOAT,\n",
    "    an_prognose_sec FLOAT,\n",
    "    abfahrtszeit_sec FLOAT,\n",
    "    ab_prognose_sec FLOAT,\n",
    "    stop_lat FLOAT,\n",
    "    stop_lon FLOAT,\n",
    "    stop_name STRING,\n",
    "    delay_bool BOOLEAN,\n",
    "    delay FLOAT\n",
    ")\n",
    "STORED AS ORC\n",
    "LOCATION '{hdfs_path}'\n",
    "\"\"\")"
   ]
  },
  {
   "cell_type": "code",
   "execution_count": 34,
   "id": "8ec7563b-1658-4e28-9ee5-716238e176a1",
   "metadata": {},
   "outputs": [
    {
     "data": {
      "application/vnd.jupyter.widget-view+json": {
       "model_id": "",
       "version_major": 2,
       "version_minor": 0
      },
      "text/plain": [
       "FloatProgress(value=0.0, bar_style='info', description='Progress:', layout=Layout(height='25px', width='50%'),…"
      ]
     },
     "metadata": {},
     "output_type": "display_data"
    },
    {
     "name": "stdout",
     "output_type": "stream",
     "text": [
      "root\n",
      " |-- trip_id: string (nullable = true)\n",
      " |-- stop_id_from: string (nullable = true)\n",
      " |-- stop_name_from: string (nullable = true)\n",
      " |-- stop_id_to: string (nullable = true)\n",
      " |-- stop_name_to: string (nullable = true)\n",
      " |-- departure_time: string (nullable = true)\n",
      " |-- arrival_time: string (nullable = true)\n",
      " |-- transport_mode: string (nullable = true)"
     ]
    }
   ],
   "source": [
    "data_graph.printSchema()"
   ]
  },
  {
   "cell_type": "code",
   "execution_count": 14,
   "id": "bb0de42c-a2af-45b5-a59f-ddbdead9acab",
   "metadata": {},
   "outputs": [
    {
     "data": {
      "application/vnd.jupyter.widget-view+json": {
       "model_id": "",
       "version_major": 2,
       "version_minor": 0
      },
      "text/plain": [
       "FloatProgress(value=0.0, bar_style='info', description='Progress:', layout=Layout(height='25px', width='50%'),…"
      ]
     },
     "metadata": {},
     "output_type": "display_data"
    },
    {
     "name": "stdout",
     "output_type": "stream",
     "text": [
      "DataFrame[]"
     ]
    }
   ],
   "source": [
    "# create table to store data in HDFS\n",
    "hdfs_path = f\"/user/{username}/livy/orc_data_graph_one_day_{region_name}\"\n",
    "\n",
    "spark.sql(f\"DROP TABLE IF EXISTS {username}.orc_data_graph_one_day_{region_name}\")\n",
    "\n",
    "spark.sql(f\"\"\"\n",
    "CREATE EXTERNAL TABLE IF NOT EXISTS {username}.orc_data_graph_one_day_{region_name}\n",
    "(\n",
    "    trip_id STRING,\n",
    "    stop_id_from STRING,\n",
    "    stop_name_from STRING,\n",
    "    stop_id_to STRING,\n",
    "    stop_name_to STRING,\n",
    "    departure_time STRING,\n",
    "    arrival_time STRING,\n",
    "    transport_mode STRING\n",
    ")\n",
    "STORED AS ORC\n",
    "LOCATION '{hdfs_path}'\n",
    "\"\"\")"
   ]
  },
  {
   "cell_type": "code",
   "execution_count": 37,
   "id": "30342cb3-5d5f-484a-9c13-a539f9124e24",
   "metadata": {},
   "outputs": [
    {
     "data": {
      "application/vnd.jupyter.widget-view+json": {
       "model_id": "",
       "version_major": 2,
       "version_minor": 0
      },
      "text/plain": [
       "FloatProgress(value=0.0, bar_style='info', description='Progress:', layout=Layout(height='25px', width='50%'),…"
      ]
     },
     "metadata": {},
     "output_type": "display_data"
    },
    {
     "name": "stdout",
     "output_type": "stream",
     "text": [
      "root\n",
      " |-- trip_id: string (nullable = true)\n",
      " |-- transport_mode: string (nullable = true)\n",
      " |-- line_text: string (nullable = true)\n",
      " |-- departure_time: string (nullable = true)\n",
      " |-- arrival_time: string (nullable = true)\n",
      " |-- stop_id: string (nullable = true)\n",
      " |-- stop_lat: double (nullable = true)\n",
      " |-- stop_lon: double (nullable = true)\n",
      " |-- stop_name: string (nullable = true)"
     ]
    }
   ],
   "source": [
    "istdaten_region_data.printSchema()"
   ]
  },
  {
   "cell_type": "code",
   "execution_count": 16,
   "id": "6e412aed-d156-4173-a369-d00c46c4bf5a",
   "metadata": {},
   "outputs": [
    {
     "data": {
      "application/vnd.jupyter.widget-view+json": {
       "model_id": "",
       "version_major": 2,
       "version_minor": 0
      },
      "text/plain": [
       "FloatProgress(value=0.0, bar_style='info', description='Progress:', layout=Layout(height='25px', width='50%'),…"
      ]
     },
     "metadata": {},
     "output_type": "display_data"
    },
    {
     "name": "stdout",
     "output_type": "stream",
     "text": [
      "DataFrame[]"
     ]
    }
   ],
   "source": [
    "hdfs_path = f\"/user/{username}/livy/orc_data_istdaten_{region_name}\"\n",
    "\n",
    "spark.sql(f\"DROP TABLE IF EXISTS {username}.orc_data_istdaten_{region_name}\")\n",
    "\n",
    "spark.sql(f\"\"\"\n",
    "CREATE EXTERNAL TABLE IF NOT EXISTS {username}.orc_data_istdaten_{region_name}\n",
    "(\n",
    "    trip_id STRING,\n",
    "    transport_mode STRING,\n",
    "    line_text STRING,\n",
    "    departure_time STRING,\n",
    "    arrival_time STRING,\n",
    "    stop_id STRING,\n",
    "    stop_lat DOUBLE,\n",
    "    stop_lon DOUBLE,\n",
    "    stop_name STRING\n",
    ")\n",
    "STORED AS ORC\n",
    "LOCATION '{hdfs_path}'\n",
    "\"\"\")"
   ]
  },
  {
   "cell_type": "code",
   "execution_count": 19,
   "id": "73c72a8b-4e00-45c8-8479-b954563b6c1c",
   "metadata": {},
   "outputs": [
    {
     "data": {
      "application/vnd.jupyter.widget-view+json": {
       "model_id": "",
       "version_major": 2,
       "version_minor": 0
      },
      "text/plain": [
       "FloatProgress(value=0.0, bar_style='info', description='Progress:', layout=Layout(height='25px', width='50%'),…"
      ]
     },
     "metadata": {},
     "output_type": "display_data"
    }
   ],
   "source": [
    "spark.stop()"
   ]
  }
 ],
 "metadata": {
  "kernelspec": {
   "display_name": "PySpark",
   "language": "python",
   "name": "pysparkkernel"
  },
  "language_info": {
   "codemirror_mode": {
    "name": "python",
    "version": 3
   },
   "file_extension": ".py",
   "mimetype": "text/x-python",
   "name": "pyspark",
   "pygments_lexer": "python3"
  }
 },
 "nbformat": 4,
 "nbformat_minor": 5
}
