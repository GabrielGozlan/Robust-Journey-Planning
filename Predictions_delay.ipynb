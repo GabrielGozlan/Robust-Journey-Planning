{
 "cells": [
  {
   "cell_type": "code",
   "execution_count": null,
   "id": "c1a61f1e-aea0-451f-8669-56247a18b5d1",
   "metadata": {},
   "outputs": [],
   "source": [
    "print(f'Start Spark name:{spark._sc.appName}, version:{spark.version}')\n",
    "\n",
    "import os\n",
    "print(f\"remote USER={os.getenv('USER',None)}\")"
   ]
  },
  {
   "cell_type": "code",
   "execution_count": 1,
   "id": "2cf46a19-5fe7-4574-be8b-c615ee00b98e",
   "metadata": {},
   "outputs": [
    {
     "name": "stdout",
     "output_type": "stream",
     "text": [
      "local USER=leclercq\n"
     ]
    }
   ],
   "source": [
    "%%local\n",
    "import os\n",
    "print(f\"local USER={os.getenv('USER',None)}\")"
   ]
  },
  {
   "cell_type": "code",
   "execution_count": 2,
   "id": "1bf99cd4-6888-4716-97aa-2c8f50da4faa",
   "metadata": {},
   "outputs": [
    {
     "name": "stdout",
     "output_type": "stream",
     "text": [
      "local username=leclercq\n",
      "hadoop_fs=hdfs://iccluster067.iccluster.epfl.ch:8020\n"
     ]
    }
   ],
   "source": [
    "%%local\n",
    "import os\n",
    "username=os.getenv('USER', 'anonymous')\n",
    "hadoop_fs=os.getenv('HADOOP_DEFAULT_FS', 'hdfs://iccluster065.iccluster.epfl.ch:8020')\n",
    "print(f\"local username={username}\\nhadoop_fs={hadoop_fs}\")"
   ]
  },
  {
   "cell_type": "code",
   "execution_count": 3,
   "id": "f9fec588-a5c9-4279-b689-925ae8c0390e",
   "metadata": {},
   "outputs": [
    {
     "name": "stdout",
     "output_type": "stream",
     "text": [
      "Starting Spark application\n"
     ]
    },
    {
     "data": {
      "text/html": [
       "<table>\n",
       "<tr><th>ID</th><th>YARN Application ID</th><th>Kind</th><th>State</th><th>Spark UI</th><th>Driver log</th><th>User</th><th>Current session?</th></tr><tr><td>5650</td><td>application_1713270977862_6345</td><td>pyspark</td><td>idle</td><td><a target=\"_blank\" href=\"http://iccluster080.iccluster.epfl.ch:8088/proxy/application_1713270977862_6345/\">Link</a></td><td><a target=\"_blank\" href=\"http://iccluster068.iccluster.epfl.ch:8042/node/containerlogs/container_e06_1713270977862_6345_01_000001/livy\">Link</a></td><td>None</td><td>✔</td></tr></table>"
      ],
      "text/plain": [
       "<IPython.core.display.HTML object>"
      ]
     },
     "metadata": {},
     "output_type": "display_data"
    },
    {
     "data": {
      "application/vnd.jupyter.widget-view+json": {
       "model_id": "",
       "version_major": 2,
       "version_minor": 0
      },
      "text/plain": [
       "FloatProgress(value=0.0, bar_style='info', description='Progress:', layout=Layout(height='25px', width='50%'),…"
      ]
     },
     "metadata": {},
     "output_type": "display_data"
    },
    {
     "name": "stdout",
     "output_type": "stream",
     "text": [
      "SparkSession available as 'spark'.\n"
     ]
    },
    {
     "data": {
      "application/vnd.jupyter.widget-view+json": {
       "model_id": "",
       "version_major": 2,
       "version_minor": 0
      },
      "text/plain": [
       "FloatProgress(value=0.0, bar_style='info', description='Progress:', layout=Layout(height='25px', width='50%'),…"
      ]
     },
     "metadata": {},
     "output_type": "display_data"
    },
    {
     "name": "stdout",
     "output_type": "stream",
     "text": [
      "remote username=leclercq\n",
      "hadoop_fs=hdfs://iccluster067.iccluster.epfl.ch:8020"
     ]
    }
   ],
   "source": [
    " # (prevent deprecated np.bool error since numpy 1.24, until a new version of pandas/Spark fixes this)\n",
    "import numpy as np\n",
    "np.bool = np.bool_\n",
    "\n",
    "username=spark.conf.get('spark.executorEnv.USERNAME', 'anonymous')\n",
    "hadoop_fs=spark.conf.get('spark.executorEnv.HADOOP_DEFAULT_FS','hdfs://iccluster065.iccluster.epfl.ch:8020')\n",
    "print(f\"remote username={username}\\nhadoop_fs={hadoop_fs}\")"
   ]
  },
  {
   "cell_type": "code",
   "execution_count": 4,
   "id": "699d716b-7146-4460-ba41-76d913d1bcb6",
   "metadata": {},
   "outputs": [
    {
     "data": {
      "application/vnd.jupyter.widget-view+json": {
       "model_id": "",
       "version_major": 2,
       "version_minor": 0
      },
      "text/plain": [
       "FloatProgress(value=0.0, bar_style='info', description='Progress:', layout=Layout(height='25px', width='50%'),…"
      ]
     },
     "metadata": {},
     "output_type": "display_data"
    },
    {
     "name": "stdout",
     "output_type": "stream",
     "text": [
      "DataFrame[]"
     ]
    }
   ],
   "source": [
    "spark.sql(f\"ADD JARS {hadoop_fs}/data/jars/esri-geometry-api-2.2.4.jar\")\n",
    "spark.sql(f\"ADD JARS {hadoop_fs}/data/jars/spatial-sdk-hive-2.2.0.jar\")\n",
    "spark.sql(f\"ADD JARS {hadoop_fs}/data/jars/spatial-sdk-json-2.2.0.jar\")\n",
    "\n",
    "spark.sql(\"CREATE OR REPLACE TEMPORARY FUNCTION ST_Distance AS 'com.esri.hadoop.hive.ST_Distance'\")\n",
    "spark.sql(\"CREATE OR REPLACE TEMPORARY FUNCTION ST_Point AS 'com.esri.hadoop.hive.ST_Point'\")\n",
    "spark.sql(\"CREATE OR REPLACE TEMPORARY FUNCTION ST_SetSRID AS 'com.esri.hadoop.hive.ST_SetSRID'\")\n",
    "spark.sql(\"CREATE OR REPLACE TEMPORARY FUNCTION ST_Contains AS 'com.esri.hadoop.hive.ST_Contains'\")"
   ]
  },
  {
   "cell_type": "markdown",
   "id": "904bdabe-f2da-498c-b7f1-32c467166c89",
   "metadata": {},
   "source": [
    "# Import data"
   ]
  },
  {
   "cell_type": "code",
   "execution_count": 5,
   "id": "93e4308f-44d1-46ca-82ea-31f6d3562e4f",
   "metadata": {},
   "outputs": [
    {
     "data": {
      "application/vnd.jupyter.widget-view+json": {
       "model_id": "",
       "version_major": 2,
       "version_minor": 0
      },
      "text/plain": [
       "FloatProgress(value=0.0, bar_style='info', description='Progress:', layout=Layout(height='25px', width='50%'),…"
      ]
     },
     "metadata": {},
     "output_type": "display_data"
    }
   ],
   "source": [
    "region_name, region_id = \"lausanne\", 2056"
   ]
  },
  {
   "cell_type": "code",
   "execution_count": 6,
   "id": "26d724b5-2659-410d-b718-a4c247ea807f",
   "metadata": {},
   "outputs": [
    {
     "data": {
      "application/vnd.jupyter.widget-view+json": {
       "model_id": "",
       "version_major": 2,
       "version_minor": 0
      },
      "text/plain": [
       "FloatProgress(value=0.0, bar_style='info', description='Progress:', layout=Layout(height='25px', width='50%'),…"
      ]
     },
     "metadata": {},
     "output_type": "display_data"
    }
   ],
   "source": [
    "from pyspark.sql import functions as F\n",
    "from pyspark.sql import Window\n",
    "from pyspark.sql.types import StringType"
   ]
  },
  {
   "cell_type": "code",
   "execution_count": 7,
   "id": "182b1fc0-d1c5-4c62-8a27-37bb99af3e99",
   "metadata": {},
   "outputs": [
    {
     "data": {
      "application/vnd.jupyter.widget-view+json": {
       "model_id": "",
       "version_major": 2,
       "version_minor": 0
      },
      "text/plain": [
       "FloatProgress(value=0.0, bar_style='info', description='Progress:', layout=Layout(height='25px', width='50%'),…"
      ]
     },
     "metadata": {},
     "output_type": "display_data"
    },
    {
     "name": "stdout",
     "output_type": "stream",
     "text": [
      "coefficients_lr\n",
      "coefficients_lr.csv\n",
      "orc_data_bern_feb\n",
      "orc_data_bern_feb.orc\n",
      "orc_data_graph_one_day_lausanne\n",
      "orc_data_istdaten_lausanne\n",
      "orc_data_pred_delay_jan_lausanne\n",
      "orc_data_pred_delay_jan_lausanne.orc\n",
      "orc_data_pred_delay_lausanne\n",
      "orc_data_pred_delay_lausanne.orc\n",
      "orc_data_prediction_one_day_lausanne\n",
      "orc_data_train\n",
      "orc_data_train.orc"
     ]
    }
   ],
   "source": [
    "# Directory path\n",
    "hdfs_path = f\"/user/{username}/livy\"\n",
    "\n",
    "hadoop_conf = spark.sparkContext._jsc.hadoopConfiguration()\n",
    "fs = spark._jvm.org.apache.hadoop.fs.FileSystem.get(hadoop_conf)\n",
    "\n",
    "# List files in the directory\n",
    "path = spark._jvm.org.apache.hadoop.fs.Path(hdfs_path)\n",
    "file_status = fs.listStatus(path)\n",
    "files = [file.getPath().getName() for file in file_status]\n",
    "\n",
    "# Print the list of files\n",
    "for file in files:\n",
    "    print(file)"
   ]
  },
  {
   "cell_type": "code",
   "execution_count": 8,
   "id": "db7ac09e-bd24-46bb-be62-a030df83afd3",
   "metadata": {},
   "outputs": [
    {
     "data": {
      "application/vnd.jupyter.widget-view+json": {
       "model_id": "",
       "version_major": 2,
       "version_minor": 0
      },
      "text/plain": [
       "FloatProgress(value=0.0, bar_style='info', description='Progress:', layout=Layout(height='25px', width='50%'),…"
      ]
     },
     "metadata": {},
     "output_type": "display_data"
    },
    {
     "name": "stdout",
     "output_type": "stream",
     "text": [
      "1365180\n",
      "+----------------+-----------+--------------+----------+-------+-------+-----+----+-------+------------+-----------+------------+-----------+----------------+---------------+----------------+---------------+---------------+--------------+-------------+----------+-------------------+\n",
      "|fahrt_bezeichner|linien_text|parent_station|produkt_id|  bpuic|stop_id|month|hour|day_cat|ankunftszeit|an_prognose|abfahrtszeit|ab_prognose|ankunftszeit_sec|an_prognose_sec|abfahrtszeit_sec|ab_prognose_sec|       stop_lat|      stop_lon|    stop_name|delay_bool|              delay|\n",
      "+----------------+-----------+--------------+----------+-------+-------+-----+----+-------+------------+-----------+------------+-----------+----------------+---------------+----------------+---------------+---------------+--------------+-------------+----------+-------------------+\n",
      "|   85:55:104:000|        R20| Parent8501181|       Zug|8501181|8501181|    1|   6| Monday|       06:05|   06:04:08|        null|       null|           18300|          18248|            null|           null|46.520798688504|6.630339348869|Lausanne-Flon|     false|-0.8666666666666667|\n",
      "|   85:55:104:000|        R20| Parent8501181|       Zug|8501181|8501181|    1|   6| Monday|       06:05|   06:04:08|        null|       null|           18300|          18248|            null|           null|46.520798688504|6.630339348869|Lausanne-Flon|     false|-0.8666666666666667|\n",
      "|   85:55:104:000|        R20| Parent8501181|       Zug|8501181|8501181|    1|   6| Monday|       06:05|   06:04:08|        null|       null|           18300|          18248|            null|           null|46.520798688504|6.630339348869|Lausanne-Flon|     false|-0.8666666666666667|\n",
      "|   85:55:104:000|        R20| Parent8501181|       Zug|8501181|8501181|    1|   6| Monday|       06:05|   06:04:08|        null|       null|           18300|          18248|            null|           null|46.520798688504|6.630339348869|Lausanne-Flon|     false|-0.8666666666666667|\n",
      "|   85:55:104:000|        R20| Parent8501181|       Zug|8501181|8501181|    1|   6| Monday|       06:05|   06:04:08|        null|       null|           18300|          18248|            null|           null|46.520798688504|6.630339348869|Lausanne-Flon|     false|-0.8666666666666667|\n",
      "+----------------+-----------+--------------+----------+-------+-------+-----+----+-------+------------+-----------+------------+-----------+----------------+---------------+----------------+---------------+---------------+--------------+-------------+----------+-------------------+\n",
      "only showing top 5 rows"
     ]
    }
   ],
   "source": [
    "df = spark.read.orc(f\"/user/{username}/livy/orc_data_prediction_one_day_{region_name}\")\n",
    "print(df.count())\n",
    "df.show(n=5)"
   ]
  },
  {
   "cell_type": "code",
   "execution_count": 10,
   "id": "3017b34f-720c-4cad-9890-e76ef99da291",
   "metadata": {},
   "outputs": [
    {
     "data": {
      "application/vnd.jupyter.widget-view+json": {
       "model_id": "",
       "version_major": 2,
       "version_minor": 0
      },
      "text/plain": [
       "FloatProgress(value=0.0, bar_style='info', description='Progress:', layout=Layout(height='25px', width='50%'),…"
      ]
     },
     "metadata": {},
     "output_type": "display_data"
    },
    {
     "name": "stdout",
     "output_type": "stream",
     "text": [
      "[Row(produkt_id='Bus'), Row(produkt_id='Metro'), Row(produkt_id='Zug'), Row(produkt_id='')]"
     ]
    }
   ],
   "source": [
    "df.select(\"produkt_id\").distinct().collect()"
   ]
  },
  {
   "cell_type": "markdown",
   "id": "03ebd48d-4f97-4549-9baf-0821f8c87cc7",
   "metadata": {},
   "source": [
    "## Create weather data"
   ]
  },
  {
   "cell_type": "code",
   "execution_count": 11,
   "id": "c28bbc96-0eb5-4ff0-92ff-aee4114a862d",
   "metadata": {},
   "outputs": [
    {
     "data": {
      "application/vnd.jupyter.widget-view+json": {
       "model_id": "",
       "version_major": 2,
       "version_minor": 0
      },
      "text/plain": [
       "FloatProgress(value=0.0, bar_style='info', description='Progress:', layout=Layout(height='25px', width='50%'),…"
      ]
     },
     "metadata": {},
     "output_type": "display_data"
    },
    {
     "name": "stdout",
     "output_type": "stream",
     "text": [
      "+----+----------+---------+---------+---------+\n",
      "|site|   lat_dms|  lon_dms|lat_wgs84|lon_wgs84|\n",
      "+----+----------+---------+---------+---------+\n",
      "|LSZH|N47°27.48'|E8°32.88'|47.458000| 8.548000|\n",
      "|LSMP|N46°50.55'|E6°54.82'|46.842500| 6.913667|\n",
      "|LSMM|N46°44.50'| E8°6.50'|46.741667| 8.108333|\n",
      "+----+----------+---------+---------+---------+\n",
      "only showing top 3 rows\n",
      "\n",
      "None\n",
      "+-----------+----------+----+-------+---------------+--------------+----------+-------------------+------------------+\n",
      "|linien_text|produkt_id|hour|day_cat|       stop_lat|      stop_lon|delay_bool|              delay|weather_evaluation|\n",
      "+-----------+----------+----+-------+---------------+--------------+----------+-------------------+------------------+\n",
      "|        IC1|       Zug|   6| Monday|46.516793104755|6.629090690624|     false|  2.033333333333333|               Bad|\n",
      "|        IC1|       Zug|   7| Monday|46.516793104755|6.629090690624|     false|               0.65|               Bad|\n",
      "|        IC1|       Zug|   8| Monday|46.516793104755|6.629090690624|     false| 0.9666666666666667|               Bad|\n",
      "|        IC1|       Zug|   9| Monday|46.516793104755|6.629090690624|     false| 0.6833333333333333|               Bad|\n",
      "|        TGV|       Zug|  10| Monday|46.516793104755|6.629090690624|     false|-1.9833333333333334|               Bad|\n",
      "|        TGV|       Zug|  11| Monday|46.516793104755|6.629090690624|     false| 0.5333333333333333|               Bad|\n",
      "|        IC1|       Zug|  12| Monday|46.516793104755|6.629090690624|     false| 1.7166666666666666|               Bad|\n",
      "|        IC1|       Zug|  13| Monday|46.516793104755|6.629090690624|     false| 0.9333333333333333|               Bad|\n",
      "|        IC1|       Zug|  14| Monday|46.516793104755|6.629090690624|     false|-0.2833333333333333|               Bad|\n",
      "|        TGV|       Zug|  15| Monday|46.516793104755|6.629090690624|     false| 0.8666666666666667|               Bad|\n",
      "+-----------+----------+----+-------+---------------+--------------+----------+-------------------+------------------+\n",
      "only showing top 10 rows\n",
      "\n",
      "None"
     ]
    }
   ],
   "source": [
    "# weather data: site, lat, lon\n",
    "weather = spark.read.csv('/data/wunderground/csv/stations', header=True)\n",
    "print(weather.show(n=3))\n",
    "\n",
    "unique_stops = df.select([\"bpuic\", \"stop_lat\", \"stop_lon\"]).distinct()\n",
    "unique_stops.createOrReplaceTempView(\"unique_stops\")\n",
    "weather.createOrReplaceTempView(\"weather\")\n",
    "\n",
    "# Calculate distances\n",
    "distance_df = spark.sql(\"\"\"\n",
    "    SELECT \n",
    "        s1.bpuic,\n",
    "        s1.stop_lat,\n",
    "        s1.stop_lon,\n",
    "        s2.site,\n",
    "        s2.lat_wgs84,\n",
    "        s2.lon_wgs84,\n",
    "        ST_Distance(ST_Point(s1.stop_lon, s1.stop_lat), ST_Point(s2.lon_wgs84, s2.lat_wgs84)) AS distance\n",
    "    FROM unique_stops s1\n",
    "    CROSS JOIN weather s2\n",
    "\"\"\")\n",
    "\n",
    "distance_df.createOrReplaceTempView(\"distance_df\")\n",
    "nearest_site_df = spark.sql(\"\"\"\n",
    "    WITH MinDistances AS (\n",
    "        SELECT\n",
    "            bpuic,\n",
    "            MIN(distance) AS min_distance\n",
    "        FROM distance_df\n",
    "        GROUP BY bpuic\n",
    "    )\n",
    "    SELECT\n",
    "        d.bpuic,\n",
    "        d.stop_lat,\n",
    "        d.stop_lon,\n",
    "        d.site\n",
    "    FROM distance_df d\n",
    "    JOIN MinDistances m ON d.bpuic = m.bpuic AND d.distance = m.min_distance\n",
    "\"\"\")\n",
    "\n",
    "df_with_sites = (df\n",
    "                 .alias(\"df\")\n",
    "                 .join(nearest_site_df.alias(\"nsd\"), F.col(\"df.bpuic\") == F.col(\"nsd.bpuic\"), \"inner\")\n",
    "                 .dropDuplicates([\"bpuic\", \"month\", \"day_cat\", \"hour\"])\n",
    "                )\n",
    "\n",
    "# create weather table for each site\n",
    "spark.sql(f\"DROP TABLE IF EXISTS {username}.weather_for_sites\")\n",
    "query = f\"\"\"\n",
    "CREATE EXTERNAL TABLE IF NOT EXISTS {username}.weather_for_sites (\n",
    "    obs_id STRING,\n",
    "    obs_name STRING,\n",
    "    valid_time_gmt INT,\n",
    "    expire_time_gmt INT,\n",
    "    temp INT,\n",
    "    pressure DOUBLE,\n",
    "    rh INT,\n",
    "    precip_hrly DOUBLE,\n",
    "    snow_hrly DOUBLE,\n",
    "    wpsd DOUBLE\n",
    ")\n",
    "ROW FORMAT SERDE 'org.apache.hadoop.hive.serde2.JsonSerDe'\n",
    "PARTITIONED BY (site STRING, year INT, month INT)\n",
    "STORED AS TEXTFILE\n",
    "LOCATION '/data/wunderground/json/history'\n",
    "\"\"\"\n",
    "spark.sql(query)\n",
    "\n",
    "# add data\n",
    "unique_sites = weather.select([\"site\"]).distinct().collect()\n",
    "year, month = 2024, 1\n",
    "\n",
    "for site_row in unique_sites:\n",
    "    site = site_row['site']\n",
    "    spark.sql(f\"\"\"\n",
    "    ALTER TABLE {username}.weather_for_sites ADD PARTITION (site='{site}', year={year}, month={month:02d}) \n",
    "    LOCATION '/data/wunderground/json/history/site={site}/year={year}/month={month:02d}'\n",
    "    \"\"\")\n",
    "\n",
    "# format data\n",
    "weather_for_sites = spark.sql(f\"SELECT * FROM {username}.weather_for_sites\")\n",
    "weather_for_sites = weather_for_sites.withColumn(\"valid_time_gmt\", F.from_utc_timestamp(F.from_unixtime(F.col(\"valid_time_gmt\").cast(\"bigint\")), \"GMT\").alias(\"valid_time_gmt\"))\n",
    "weather_for_sites = weather_for_sites.withColumn(\"expire_time_gmt\", F.from_utc_timestamp(F.from_unixtime(F.col(\"expire_time_gmt\").cast(\"bigint\")), \"GMT\").alias(\"expire_time_gmt\"))\n",
    "weather_for_sites = weather_for_sites.withColumn(\"dayofmonth\", F.dayofmonth(F.from_unixtime(F.col(\"valid_time_gmt\").cast(\"bigint\"))))\n",
    "weather_for_sites = weather_for_sites.withColumn(\"hour\", F.hour(F.from_unixtime(F.col(\"valid_time_gmt\").cast(\"bigint\"))))\n",
    "weather_for_sites = weather_for_sites.withColumn(\"minute\", F.minute(F.from_unixtime(F.col(\"valid_time_gmt\").cast(\"bigint\"))))\n",
    "weather_for_sites = weather_for_sites.filter(F.dayofweek(F.col(\"valid_time_gmt\")) == 2) # mondays\n",
    "weather_for_sites = weather_for_sites.withColumn(\"day_cat\", F.date_format(\"valid_time_gmt\", \"EEEE\"))\n",
    "\n",
    "# hourly data\n",
    "weather_df_avg_hourly = (weather_for_sites\n",
    "                        .select(\"site\", \"year\", \"month\", \"dayofmonth\", \"day_cat\", \"hour\", \"precip_hrly\", \"temp\", \"wpsd\", \"snow_hrly\")\n",
    "                        .groupBy(\"site\", \"year\", \"month\", \"dayofmonth\", \"hour\")\n",
    "                        .agg(F.avg(\"precip_hrly\").alias(\"avg_precip\"),\n",
    "                             F.avg(\"temp\").alias(\"avg_temp\"),\n",
    "                             F.avg(\"wpsd\").alias(\"avg_wpsd\"),\n",
    "                             F.avg(\"snow_hrly\").alias(\"avg_snow\"),\n",
    "                             F.first(\"day_cat\").alias(\"day_cat\"))\n",
    "                       ) #hour\n",
    "\n",
    "\n",
    "# Rank \n",
    "hourly_window_precip = Window.partitionBy(\"year\", \"month\", \"dayofmonth\", \"hour\").orderBy(F.col(\"avg_precip\").desc())\n",
    "hourly_window_temp = Window.partitionBy(\"year\", \"month\", \"dayofmonth\", \"hour\").orderBy(F.col(\"avg_temp\"))\n",
    "hourly_rank = weather_df_avg_hourly.withColumn(\"rank_precip\", F.rank().over(hourly_window_precip)).withColumn(\"rank_temp\", F.rank().over(hourly_window_temp))\n",
    "\n",
    "def evaluate_weather(rank_precip, rank_temp, avg_temp):\n",
    "   \n",
    "    if rank_precip is None:\n",
    "        rank_precip = float('inf')  \n",
    "    if rank_temp is None:\n",
    "        rank_temp = float('inf')  \n",
    "    if avg_temp is None:\n",
    "        avg_temp = float('inf') \n",
    "        \n",
    "    if rank_precip <= 5 or (avg_temp <= 3 and rank_temp <= 5):\n",
    "        return \"Bad\"\n",
    "    else:\n",
    "        return \"Good\"\n",
    "\n",
    "\n",
    "evaluate_weather_udf = F.udf(evaluate_weather, StringType())\n",
    "evaluate_hourly_weather = hourly_rank.withColumn(\"evaluate_weather\", evaluate_weather_udf(F.col(\"rank_precip\"), F.col(\"rank_temp\"), F.col(\"avg_temp\"))).withColumnRenamed(\"dayofmonth\", \"day\")\n",
    "\n",
    "\n",
    "def count_rank_evaluate_weather(good_count, bad_count):\n",
    "    if good_count > bad_count:\n",
    "        return 'Good'\n",
    "    elif bad_count > good_count:\n",
    "        return 'Bad'\n",
    "    else:\n",
    "        return 'Good'\n",
    "\n",
    "evaluate_weather_udf = F.udf(count_rank_evaluate_weather, StringType())\n",
    "evaluate_hourly_weather = (evaluate_hourly_weather\n",
    "                           .groupBy(\"year\", \"month\", \"day_cat\", \"hour\", \"site\")\n",
    "                           .agg(\n",
    "                               F.sum(F.when(F.col(\"evaluate_weather\") == 'Good', 1).otherwise(0)).alias(\"good_count\"),\n",
    "                               F.sum(F.when(F.col(\"evaluate_weather\") == 'Bad', 1).otherwise(0)).alias(\"bad_count\")\n",
    "                           )\n",
    "                          )\n",
    "evaluate_hourly_weather = evaluate_hourly_weather.withColumn(\"weather_evaluation\", evaluate_weather_udf(F.col(\"good_count\"), F.col(\"bad_count\")))\n",
    "\n",
    "\n",
    "df_with_weather = df_with_sites.join(evaluate_hourly_weather, [\"month\", \"day_cat\", \"hour\", \"site\"])\n",
    "df_with_weather = df_with_weather.select(\"linien_text\", \"produkt_id\", \"hour\", \"day_cat\", \"df.stop_lat\", \"df.stop_lon\", \"delay_bool\", \"delay\", \"weather_evaluation\")\n",
    "print(df_with_weather.show(n=10))\n",
    "\n",
    "df_bad_weather = df_with_weather.filter(F.col(\"weather_evaluation\") == \"Bad\")\n",
    "df_good_weather = df_with_weather.filter(F.col(\"weather_evaluation\") == \"Good\")"
   ]
  },
  {
   "cell_type": "markdown",
   "id": "fc37b506-7ba7-4120-a89c-00ce05fcfb60",
   "metadata": {},
   "source": [
    "# Delay visualization"
   ]
  },
  {
   "cell_type": "markdown",
   "id": "03073a02-f7e0-4c3c-941e-26903cd536f0",
   "metadata": {},
   "source": [
    "### Visualization of delays by transport mode"
   ]
  },
  {
   "cell_type": "code",
   "execution_count": 12,
   "id": "5e814005-1696-45f4-826b-2a35bf367e99",
   "metadata": {},
   "outputs": [
    {
     "data": {
      "application/vnd.jupyter.widget-view+json": {
       "model_id": "",
       "version_major": 2,
       "version_minor": 0
      },
      "text/plain": [
       "FloatProgress(value=0.0, bar_style='info', description='Progress:', layout=Layout(height='25px', width='50%'),…"
      ]
     },
     "metadata": {},
     "output_type": "display_data"
    },
    {
     "data": {
      "application/vnd.jupyter.widget-view+json": {
       "model_id": "",
       "version_major": 2,
       "version_minor": 0
      },
      "text/plain": [
       "FloatProgress(value=0.0, bar_style='info', description='Progress:', layout=Layout(height='25px', width='50%'),…"
      ]
     },
     "metadata": {},
     "output_type": "display_data"
    },
    {
     "name": "stderr",
     "output_type": "stream",
     "text": [
      "/opt/conda/lib/python3.11/site-packages/sparkmagic/utils/utils.py:44: UserWarning:\n",
      "\n",
      "Could not infer format, so each element will be parsed individually, falling back to `dateutil`. To ensure parsing is consistent and as-expected, please specify a format.\n",
      "\n",
      "/opt/conda/lib/python3.11/site-packages/sparkmagic/utils/utils.py:44: UserWarning:\n",
      "\n",
      "Could not infer format, so each element will be parsed individually, falling back to `dateutil`. To ensure parsing is consistent and as-expected, please specify a format.\n",
      "\n",
      "/opt/conda/lib/python3.11/site-packages/sparkmagic/utils/utils.py:44: UserWarning:\n",
      "\n",
      "Could not infer format, so each element will be parsed individually, falling back to `dateutil`. To ensure parsing is consistent and as-expected, please specify a format.\n",
      "\n",
      "/opt/conda/lib/python3.11/site-packages/sparkmagic/utils/utils.py:44: UserWarning:\n",
      "\n",
      "Could not infer format, so each element will be parsed individually, falling back to `dateutil`. To ensure parsing is consistent and as-expected, please specify a format.\n",
      "\n",
      "/opt/conda/lib/python3.11/site-packages/sparkmagic/utils/utils.py:44: UserWarning:\n",
      "\n",
      "Could not infer format, so each element will be parsed individually, falling back to `dateutil`. To ensure parsing is consistent and as-expected, please specify a format.\n",
      "\n"
     ]
    }
   ],
   "source": [
    "%%spark -o df_bus\n",
    "from pyspark.sql import functions as F\n",
    "df_bus = df.filter(F.col(\"produkt_id\") == \"Bus\")"
   ]
  },
  {
   "cell_type": "code",
   "execution_count": 13,
   "id": "cf6805e5-8bbc-4b21-abbc-fc925eb804d0",
   "metadata": {},
   "outputs": [
    {
     "data": {
      "application/vnd.jupyter.widget-view+json": {
       "model_id": "",
       "version_major": 2,
       "version_minor": 0
      },
      "text/plain": [
       "FloatProgress(value=0.0, bar_style='info', description='Progress:', layout=Layout(height='25px', width='50%'),…"
      ]
     },
     "metadata": {},
     "output_type": "display_data"
    },
    {
     "data": {
      "application/vnd.jupyter.widget-view+json": {
       "model_id": "",
       "version_major": 2,
       "version_minor": 0
      },
      "text/plain": [
       "FloatProgress(value=0.0, bar_style='info', description='Progress:', layout=Layout(height='25px', width='50%'),…"
      ]
     },
     "metadata": {},
     "output_type": "display_data"
    },
    {
     "name": "stderr",
     "output_type": "stream",
     "text": [
      "/opt/conda/lib/python3.11/site-packages/sparkmagic/utils/utils.py:44: UserWarning:\n",
      "\n",
      "Could not infer format, so each element will be parsed individually, falling back to `dateutil`. To ensure parsing is consistent and as-expected, please specify a format.\n",
      "\n",
      "/opt/conda/lib/python3.11/site-packages/sparkmagic/utils/utils.py:44: UserWarning:\n",
      "\n",
      "Could not infer format, so each element will be parsed individually, falling back to `dateutil`. To ensure parsing is consistent and as-expected, please specify a format.\n",
      "\n",
      "/opt/conda/lib/python3.11/site-packages/sparkmagic/utils/utils.py:44: UserWarning:\n",
      "\n",
      "Could not infer format, so each element will be parsed individually, falling back to `dateutil`. To ensure parsing is consistent and as-expected, please specify a format.\n",
      "\n",
      "/opt/conda/lib/python3.11/site-packages/sparkmagic/utils/utils.py:44: UserWarning:\n",
      "\n",
      "Could not infer format, so each element will be parsed individually, falling back to `dateutil`. To ensure parsing is consistent and as-expected, please specify a format.\n",
      "\n",
      "/opt/conda/lib/python3.11/site-packages/sparkmagic/utils/utils.py:44: UserWarning:\n",
      "\n",
      "Could not infer format, so each element will be parsed individually, falling back to `dateutil`. To ensure parsing is consistent and as-expected, please specify a format.\n",
      "\n",
      "/opt/conda/lib/python3.11/site-packages/sparkmagic/utils/utils.py:44: UserWarning:\n",
      "\n",
      "Could not infer format, so each element will be parsed individually, falling back to `dateutil`. To ensure parsing is consistent and as-expected, please specify a format.\n",
      "\n",
      "/opt/conda/lib/python3.11/site-packages/sparkmagic/utils/utils.py:44: UserWarning:\n",
      "\n",
      "Could not infer format, so each element will be parsed individually, falling back to `dateutil`. To ensure parsing is consistent and as-expected, please specify a format.\n",
      "\n",
      "/opt/conda/lib/python3.11/site-packages/sparkmagic/utils/utils.py:44: UserWarning:\n",
      "\n",
      "Could not infer format, so each element will be parsed individually, falling back to `dateutil`. To ensure parsing is consistent and as-expected, please specify a format.\n",
      "\n",
      "/opt/conda/lib/python3.11/site-packages/sparkmagic/utils/utils.py:44: UserWarning:\n",
      "\n",
      "Could not infer format, so each element will be parsed individually, falling back to `dateutil`. To ensure parsing is consistent and as-expected, please specify a format.\n",
      "\n",
      "/opt/conda/lib/python3.11/site-packages/sparkmagic/utils/utils.py:44: UserWarning:\n",
      "\n",
      "Could not infer format, so each element will be parsed individually, falling back to `dateutil`. To ensure parsing is consistent and as-expected, please specify a format.\n",
      "\n"
     ]
    }
   ],
   "source": [
    "%%spark -o df_train\n",
    "df_train = df.filter(F.col(\"produkt_id\") == \"Zug\")"
   ]
  },
  {
   "cell_type": "code",
   "execution_count": 14,
   "id": "b4df350d-7b0d-41ee-8a67-99fa40822bf4",
   "metadata": {},
   "outputs": [
    {
     "data": {
      "application/vnd.jupyter.widget-view+json": {
       "model_id": "",
       "version_major": 2,
       "version_minor": 0
      },
      "text/plain": [
       "FloatProgress(value=0.0, bar_style='info', description='Progress:', layout=Layout(height='25px', width='50%'),…"
      ]
     },
     "metadata": {},
     "output_type": "display_data"
    },
    {
     "data": {
      "application/vnd.jupyter.widget-view+json": {
       "model_id": "",
       "version_major": 2,
       "version_minor": 0
      },
      "text/plain": [
       "FloatProgress(value=0.0, bar_style='info', description='Progress:', layout=Layout(height='25px', width='50%'),…"
      ]
     },
     "metadata": {},
     "output_type": "display_data"
    },
    {
     "name": "stderr",
     "output_type": "stream",
     "text": [
      "/opt/conda/lib/python3.11/site-packages/sparkmagic/utils/utils.py:44: UserWarning:\n",
      "\n",
      "Could not infer format, so each element will be parsed individually, falling back to `dateutil`. To ensure parsing is consistent and as-expected, please specify a format.\n",
      "\n",
      "/opt/conda/lib/python3.11/site-packages/sparkmagic/utils/utils.py:44: UserWarning:\n",
      "\n",
      "Could not infer format, so each element will be parsed individually, falling back to `dateutil`. To ensure parsing is consistent and as-expected, please specify a format.\n",
      "\n",
      "/opt/conda/lib/python3.11/site-packages/sparkmagic/utils/utils.py:44: UserWarning:\n",
      "\n",
      "Could not infer format, so each element will be parsed individually, falling back to `dateutil`. To ensure parsing is consistent and as-expected, please specify a format.\n",
      "\n",
      "/opt/conda/lib/python3.11/site-packages/sparkmagic/utils/utils.py:44: UserWarning:\n",
      "\n",
      "Could not infer format, so each element will be parsed individually, falling back to `dateutil`. To ensure parsing is consistent and as-expected, please specify a format.\n",
      "\n",
      "/opt/conda/lib/python3.11/site-packages/sparkmagic/utils/utils.py:44: UserWarning:\n",
      "\n",
      "Could not infer format, so each element will be parsed individually, falling back to `dateutil`. To ensure parsing is consistent and as-expected, please specify a format.\n",
      "\n"
     ]
    }
   ],
   "source": [
    "%%spark -o df_metro\n",
    "df_metro = df.filter(F.col(\"produkt_id\") == \"Metro\")"
   ]
  },
  {
   "cell_type": "code",
   "execution_count": 15,
   "id": "1fd754e8-49df-430c-ab71-cc65c0dd706c",
   "metadata": {},
   "outputs": [
    {
     "name": "stdout",
     "output_type": "stream",
     "text": [
      "(2500, 22)\n",
      "(2500, 22)\n",
      "(2500, 22)\n"
     ]
    }
   ],
   "source": [
    "%%local \n",
    "import numpy as np\n",
    "import matplotlib.pyplot as plt\n",
    "import seaborn as sns\n",
    "\n",
    "print(df_bus.shape)\n",
    "print(df_train.shape)\n",
    "print(df_metro.shape)"
   ]
  },
  {
   "cell_type": "code",
   "execution_count": 16,
   "id": "cb6f7ecb-95f5-42b2-ad18-9f17da1dd9c5",
   "metadata": {},
   "outputs": [
    {
     "name": "stdout",
     "output_type": "stream",
     "text": [
      "bus:\n",
      " delay_bool\n",
      "False    0.968\n",
      "True     0.032\n",
      "Name: proportion, dtype: float64\n",
      "train:\n",
      " delay_bool\n",
      "False    0.986\n",
      "True     0.014\n",
      "Name: proportion, dtype: float64\n",
      "metro:\n",
      " delay_bool\n",
      "False    0.994\n",
      "True     0.006\n",
      "Name: proportion, dtype: float64\n"
     ]
    }
   ],
   "source": [
    "%%local\n",
    "# balance\n",
    "print(\"bus:\\n\", df_bus.delay_bool.value_counts(normalize=True))\n",
    "print(\"train:\\n\", df_train.delay_bool.value_counts(normalize=True))\n",
    "print(\"metro:\\n\", df_metro.delay_bool.value_counts(normalize=True))"
   ]
  },
  {
   "cell_type": "code",
   "execution_count": 17,
   "id": "4d0f53f0-390c-4d26-9b76-e85815e64467",
   "metadata": {},
   "outputs": [
    {
     "data": {
      "application/vnd.jupyter.widget-view+json": {
       "model_id": "3b0468dd21c940ccade7622407d846bc",
       "version_major": 2,
       "version_minor": 0
      },
      "text/plain": [
       "VBox(children=(HBox(children=(HTML(value='Type:'), Button(description='Table', layout=Layout(width='70px'), st…"
      ]
     },
     "metadata": {},
     "output_type": "display_data"
    },
    {
     "data": {
      "application/vnd.jupyter.widget-view+json": {
       "model_id": "3e3fd362df4c4958a277140fd89c8cf7",
       "version_major": 2,
       "version_minor": 0
      },
      "text/plain": [
       "Output()"
      ]
     },
     "metadata": {},
     "output_type": "display_data"
    }
   ],
   "source": [
    "%%local\n",
    "df_bus.head()"
   ]
  },
  {
   "cell_type": "code",
   "execution_count": 18,
   "id": "90aeee36-3700-477e-aa01-783ba38fdde0",
   "metadata": {},
   "outputs": [
    {
     "data": {
      "image/png": "[encoded data removed]",
      "text/plain": [
       "<Figure size 1000x400 with 3 Axes>"
      ]
     },
     "metadata": {},
     "output_type": "display_data"
    }
   ],
   "source": [
    "%%local\n",
    "# delay by transport\n",
    "fig, ax = plt.subplots(1, 3, figsize=(10, 4), sharex=True, sharey=True)\n",
    "\n",
    "ax[0].hist(df_bus.delay, label=\"bus\", density=True, bins=50)\n",
    "ax[0].set_title(\"distribution delays (min)\")\n",
    "ax[0].set_xlabel(\"delay (min)\")\n",
    "ax[0].set_ylabel(\"density\")\n",
    "ax[0].legend(loc=\"best\")\n",
    "\n",
    "ax[1].hist(df_train.delay, label=\"train\", density=True, bins=50)\n",
    "ax[1].set_title(\"distribution delays (min)\")\n",
    "ax[1].set_xlabel(\"delay (min)\")\n",
    "ax[1].set_ylabel(\"density\")\n",
    "ax[1].legend(loc=\"best\")\n",
    "\n",
    "ax[2].hist(df_metro.delay, label=\"metro\", density=True, bins=50)\n",
    "ax[2].set_title(\"distribution delays (min)\")\n",
    "ax[2].set_xlabel(\"delay (min)\")\n",
    "ax[2].set_ylabel(\"density\")\n",
    "ax[2].legend(loc=\"best\")\n",
    "\n",
    "plt.tight_layout()\n",
    "plt.show()"
   ]
  },
  {
   "cell_type": "code",
   "execution_count": 19,
   "id": "c99e62b8-b347-4962-bdea-136c402b3b0e",
   "metadata": {},
   "outputs": [
    {
     "data": {
      "image/png": "[encoded data removed]",
      "text/plain": [
       "<Figure size 1400x400 with 3 Axes>"
      ]
     },
     "metadata": {},
     "output_type": "display_data"
    }
   ],
   "source": [
    "%%local\n",
    "# delay by hour\n",
    "mean_delay_bus = df_bus.groupby(\"hour\")[\"delay\"].agg(\"mean\")\n",
    "mean_delay_train = df_train.groupby(\"hour\")[\"delay\"].agg(\"mean\")\n",
    "mean_delay_metro = df_bus.groupby(\"hour\")[\"delay\"].agg(\"mean\")\n",
    "\n",
    "fig, ax = plt.subplots(1, 3, figsize=(14, 4), sharex=True, sharey=True)\n",
    "\n",
    "ax[0].plot(mean_delay_bus.index, mean_delay_bus.values, label=\"bus\")\n",
    "ax[0].set_xlabel(\"hour\")\n",
    "ax[0].set_ylabel(\"mean delay (min)\")\n",
    "ax[0].set_title(\"average delay by hour\")\n",
    "ax[0].legend(loc=\"best\")\n",
    "ax[0].set_xticks(mean_delay_bus.index)\n",
    "ax[0].grid(True)\n",
    "ax[0].set_xlim(mean_delay_bus.index.min(), mean_delay_bus.index.max())\n",
    "\n",
    "ax[1].plot(mean_delay_train.index, mean_delay_train.values, label=\"train\")\n",
    "ax[1].set_xlabel(\"hour\")\n",
    "ax[1].set_ylabel(\"mean delay (min)\")\n",
    "ax[1].set_title(\"average delay by hour\")\n",
    "ax[1].legend(loc=\"best\")\n",
    "ax[1].set_xticks(mean_delay_train.index)\n",
    "ax[1].grid(True)\n",
    "ax[1].set_xlim(mean_delay_train.index.min(), mean_delay_train.index.max())\n",
    "\n",
    "ax[2].plot(mean_delay_metro.index, mean_delay_metro.values, label=\"metro\")\n",
    "ax[2].set_xlabel(\"hour\")\n",
    "ax[2].set_ylabel(\"mean delay (min)\")\n",
    "ax[2].set_title(\"average delay by hour\")\n",
    "ax[2].legend(loc=\"best\")\n",
    "ax[2].set_xticks(mean_delay_metro.index)\n",
    "ax[2].grid(True)\n",
    "ax[2].set_xlim(mean_delay_metro.index.min(), mean_delay_metro.index.max())\n",
    "\n",
    "plt.show()"
   ]
  },
  {
   "cell_type": "markdown",
   "id": "ebaf771b-05e8-43bc-9447-fa73adc101f2",
   "metadata": {},
   "source": [
    "__Observation__: we can clearly see that first, the mean of transport is important (delays are more import for a train), and that there are spikes in the morning and the evening across transport types, with low (even negative) delays around early morning, midday and late at night.\n",
    "\n",
    "__Consequences__: we create a new feature named _rush_hour_ that is a boolean for whether we are looking at rush hours data (7h-11h and 17h-20h)."
   ]
  },
  {
   "cell_type": "markdown",
   "id": "48db0340-5ebb-47b7-a3ce-d23a2a9f8ac7",
   "metadata": {},
   "source": [
    "### Compute peak/rush hours"
   ]
  },
  {
   "cell_type": "code",
   "execution_count": 9,
   "id": "f8c1da94-8c94-477d-be85-1f08266fea04",
   "metadata": {},
   "outputs": [
    {
     "data": {
      "application/vnd.jupyter.widget-view+json": {
       "model_id": "",
       "version_major": 2,
       "version_minor": 0
      },
      "text/plain": [
       "FloatProgress(value=0.0, bar_style='info', description='Progress:', layout=Layout(height='25px', width='50%'),…"
      ]
     },
     "metadata": {},
     "output_type": "display_data"
    },
    {
     "name": "stdout",
     "output_type": "stream",
     "text": [
      "+-----------+----------+----+-------+---------------+--------------+----------+-------------------+\n",
      "|linien_text|produkt_id|hour|day_cat|       stop_lat|      stop_lon|delay_bool|              delay|\n",
      "+-----------+----------+----+-------+---------------+--------------+----------+-------------------+\n",
      "|        R20|       Zug|   6| Monday|46.520798688504|6.630339348869|     false|-0.8666666666666667|\n",
      "|        R20|       Zug|   6| Monday|46.520798688504|6.630339348869|     false|-0.8666666666666667|\n",
      "|        R20|       Zug|   6| Monday|46.520798688504|6.630339348869|     false|-0.8666666666666667|\n",
      "|        R20|       Zug|   6| Monday|46.520798688504|6.630339348869|     false|-0.8666666666666667|\n",
      "|        R20|       Zug|   6| Monday|46.520798688504|6.630339348869|     false|-0.8666666666666667|\n",
      "+-----------+----------+----+-------+---------------+--------------+----------+-------------------+\n",
      "only showing top 5 rows"
     ]
    }
   ],
   "source": [
    "# select relevant columns for training models\n",
    "data_train = df.select(\"linien_text\", \"produkt_id\", \"hour\", \"day_cat\", \"stop_lat\", \"stop_lon\", \"delay_bool\", \"delay\")\n",
    "data_train.show(n=5)"
   ]
  },
  {
   "cell_type": "code",
   "execution_count": 10,
   "id": "00ecc608-ff75-46f9-9db4-88c202ad8080",
   "metadata": {},
   "outputs": [
    {
     "data": {
      "application/vnd.jupyter.widget-view+json": {
       "model_id": "",
       "version_major": 2,
       "version_minor": 0
      },
      "text/plain": [
       "FloatProgress(value=0.0, bar_style='info', description='Progress:', layout=Layout(height='25px', width='50%'),…"
      ]
     },
     "metadata": {},
     "output_type": "display_data"
    },
    {
     "name": "stdout",
     "output_type": "stream",
     "text": [
      "+----------+--------------------+-------------------+\n",
      "|produkt_id|          mean_delay|          std_delay|\n",
      "+----------+--------------------+-------------------+\n",
      "|       Zug|  0.6643222084878457|  3.292695873056499|\n",
      "|       Bus|-0.18423190494890157| 25.085533668725642|\n",
      "|     Metro| 0.48747657097760727| 0.9463552835469818|\n",
      "|          | 0.20833333333333326|0.44798933519052037|\n",
      "+----------+--------------------+-------------------+\n",
      "\n",
      "None\n",
      "+----------+----+---------+------------------+---------+\n",
      "|produkt_id|hour|frequency|        mean_count|rush_hour|\n",
      "+----------+----+---------+------------------+---------+\n",
      "|     Metro|  19|       25|16.666666666666668|     true|\n",
      "|       Bus|  22|      585|1899.4117647058824|    false|\n",
      "|       Bus|  21|      525|1899.4117647058824|    false|\n",
      "|       Bus|   6|     1360|1899.4117647058824|    false|\n",
      "|       Bus|  12|     1155|1899.4117647058824|    false|\n",
      "+----------+----+---------+------------------+---------+\n",
      "only showing top 5 rows\n",
      "\n",
      "None\n",
      "+----------+----+-------+---------------+--------------+---------+----------+\n",
      "|produkt_id|hour|day_cat|       stop_lat|      stop_lon|rush_hour|delay_bool|\n",
      "+----------+----+-------+---------------+--------------+---------+----------+\n",
      "|       Bus|   6| Monday|46.523264942721|6.589807363244|    false|     false|\n",
      "|       Bus|   6| Monday|46.523264942721|6.589807363244|    false|     false|\n",
      "|       Bus|   6| Monday|46.523264942721|6.589807363244|    false|     false|\n",
      "|       Bus|   6| Monday|46.523264942721|6.589807363244|    false|     false|\n",
      "|       Bus|   6| Monday|46.523264942721|6.589807363244|    false|     false|\n",
      "+----------+----+-------+---------------+--------------+---------+----------+\n",
      "only showing top 5 rows"
     ]
    }
   ],
   "source": [
    "# systematic way to compute rush hours by transport type\n",
    "stats_delay = data_train.groupBy(\"produkt_id\").agg(\n",
    "    F.mean(F.col(\"delay\")).alias(\"mean_delay\"),\n",
    "    F.stddev(F.col(\"delay\")).alias(\"std_delay\")\n",
    ")\n",
    "print(stats_delay.show(n=5))\n",
    "\n",
    "# condition for rush hour\n",
    "data_train_stats_delay = data_train.join(stats_delay, on=\"produkt_id\")\n",
    "\n",
    "# get peak hours\n",
    "thresholds = F.col(\"delay\") >= 5\n",
    "peak_hours = data_train_stats_delay.filter(thresholds).select(\"produkt_id\", \"hour\")\n",
    "\n",
    "# peak hours -> when number of delays >= mean number of delays (by transport type)\n",
    "peak_hour_counts = peak_hours.groupBy(\"produkt_id\", \"hour\").agg(F.count(\"*\").alias(\"frequency\"))\n",
    "peak_hours_stats = peak_hour_counts.groupBy(\"produkt_id\").agg(F.mean(\"frequency\").alias(\"mean_count\"))\n",
    "peak_hour_counts = peak_hour_counts.join(peak_hours_stats, on=\"produkt_id\")\n",
    "peak_hour_counts = peak_hour_counts.withColumn(\"rush_hour\", F.col(\"frequency\") >= F.col(\"mean_count\"))\n",
    "\n",
    "print(peak_hour_counts.show(n=5))\n",
    "\n",
    "# add column rush hours\n",
    "data_train_stats_delay = data_train_stats_delay.join(peak_hour_counts, on=[\"produkt_id\", \"hour\"]).select(\n",
    "    \"produkt_id\", \"hour\", \"day_cat\", \"stop_lat\", \"stop_lon\", \"rush_hour\", \"delay_bool\"\n",
    ")\n",
    "\n",
    "data_train_stats_delay.show(n=5)"
   ]
  },
  {
   "cell_type": "code",
   "execution_count": 32,
   "id": "836a72f9-1721-4a43-b23f-d1cce11974ba",
   "metadata": {},
   "outputs": [
    {
     "data": {
      "application/vnd.jupyter.widget-view+json": {
       "model_id": "",
       "version_major": 2,
       "version_minor": 0
      },
      "text/plain": [
       "FloatProgress(value=0.0, bar_style='info', description='Progress:', layout=Layout(height='25px', width='50%'),…"
      ]
     },
     "metadata": {},
     "output_type": "display_data"
    },
    {
     "name": "stdout",
     "output_type": "stream",
     "text": [
      "+----------+----+---------+\n",
      "|produkt_id|hour|rush_hour|\n",
      "+----------+----+---------+\n",
      "|       Zug|   7|    false|\n",
      "|       Zug|  13|    false|\n",
      "|     Metro|  19|     true|\n",
      "|       Zug|  16|    false|\n",
      "|       Bus|  22|    false|\n",
      "|       Zug|  14|    false|\n",
      "|       Zug|  19|     true|\n",
      "|       Bus|  21|    false|\n",
      "|       Zug|  10|    false|\n",
      "|       Zug|  11|     true|\n",
      "|       Bus|   6|    false|\n",
      "|       Bus|  12|    false|\n",
      "|       Zug|  18|     true|\n",
      "|       Bus|   8|     true|\n",
      "|     Metro|  14|     true|\n",
      "|       Bus|  13|    false|\n",
      "|       Bus|  10|    false|\n",
      "|     Metro|  16|    false|\n",
      "|       Bus|  11|    false|\n",
      "|       Zug|   9|     true|\n",
      "+----------+----+---------+\n",
      "only showing top 20 rows"
     ]
    }
   ],
   "source": [
    "# convention rush hour\n",
    "convention_hours = data_train_stats_delay.select(\"produkt_id\", \"hour\", \"rush_hour\").dropDuplicates()\n",
    "convention_hours.show()"
   ]
  },
  {
   "cell_type": "code",
   "execution_count": 28,
   "id": "a44cc6f2-5374-40b5-ba7f-d3b4f520908d",
   "metadata": {},
   "outputs": [
    {
     "data": {
      "image/png": "[encoded data removed]",
      "text/plain": [
       "<Figure size 1400x400 with 3 Axes>"
      ]
     },
     "metadata": {},
     "output_type": "display_data"
    }
   ],
   "source": [
    "%%local\n",
    "# influence of the line -> hard to say because not all the lines are in the local dataframe\n",
    "def plot_hist(data, ax):\n",
    "    lines = data.linien_text.unique()\n",
    "    sns.histplot(\n",
    "        data=data,\n",
    "        x=\"delay\",\n",
    "        hue=\"linien_text\",\n",
    "        stat=\"density\",\n",
    "        # cumulative=True,\n",
    "        alpha=0.5,\n",
    "        palette=\"Set1\",\n",
    "        ax=ax\n",
    "    )\n",
    "    ax.set_ylabel(\"density\")\n",
    "    ax.set_title(\"delay distribution by lines\")\n",
    "\n",
    "fig, ax = plt.subplots(1, 3, figsize=(14, 4), sharex=True, sharey=True)\n",
    "\n",
    "plot_hist(df_bus, ax[0])\n",
    "plot_hist(df_train, ax[1])\n",
    "plot_hist(df_metro, ax[2])\n",
    "\n",
    "plt.show()"
   ]
  },
  {
   "cell_type": "markdown",
   "id": "8fba67f1-9554-42a5-9074-7d26c3c6dab3",
   "metadata": {},
   "source": [
    "### Visualization of delay by weather"
   ]
  },
  {
   "cell_type": "code",
   "execution_count": 30,
   "id": "5ca3598d-a223-4488-b1c4-447b71c81143",
   "metadata": {},
   "outputs": [
    {
     "name": "stderr",
     "output_type": "stream",
     "text": [
      "Interrupted by user\n"
     ]
    }
   ],
   "source": [
    "%%spark -o df_bad_weather"
   ]
  },
  {
   "cell_type": "code",
   "execution_count": null,
   "id": "3e3eb7c3-eb26-42cb-bb7f-3ab882e450ae",
   "metadata": {},
   "outputs": [],
   "source": [
    "%%spark -o df_good_weather"
   ]
  },
  {
   "cell_type": "code",
   "execution_count": null,
   "id": "eda01f18-df37-424a-bccf-066c5293e51a",
   "metadata": {},
   "outputs": [],
   "source": [
    "%%local \n",
    "\n",
    "import matplotlib.pyplot as plt\n",
    "import numpy as np\n",
    "import scipy.stats as stats\n",
    "\n",
    "fig, ax = plt.subplots(1, 2, figsize=(10, 4), sharex=True, sharey=True)\n",
    "\n",
    "dfs = [df_bad_weather, df_good_weather]\n",
    "labels = ['Bad weather', 'Good weather']\n",
    "\n",
    "for i, (df, label) in enumerate(zip(dfs, labels)):\n",
    "\n",
    "    data = df.loc[:, 'delay']\n",
    "    data = data[data >= 0]\n",
    "    ax[i].hist(data, bins=50, density=True, alpha=0.6, label=f'{label} histogram')\n",
    "    \n",
    "    # Fit Gamma distribution\n",
    "    fit_alpha, fit_loc, fit_beta = stats.gamma.fit(data)\n",
    "    \n",
    "    xmin, xmax = ax[i].get_xlim()\n",
    "    x = np.linspace(xmin, xmax, 100)\n",
    "    y = stats.gamma.pdf(x, fit_alpha, loc=fit_loc, scale=fit_beta)\n",
    "    \n",
    "    \n",
    "    ax[i].plot(x, y, 'r-', lw=2, label=f'Fitted gamma {label}')\n",
    "    ax[i].set_title(f\"Distribution of delays (hour) - {label}\")\n",
    "    ax[i].set_xlabel(\"Delay (min)\")\n",
    "    ax[i].set_ylabel(\"Density of probability\")\n",
    "    ax[i].legend(loc=\"best\")\n",
    "\n",
    "plt.tight_layout()\n",
    "plt.show()\n"
   ]
  },
  {
   "cell_type": "code",
   "execution_count": null,
   "id": "44a6c563-a77f-4adf-a8cf-4fc031891001",
   "metadata": {},
   "outputs": [],
   "source": [
    "%%spark -o df_bus_with_weather\n",
    "df_bus_with_weather = df_with_weather.filter(F.col(\"produkt_id\") == \"Bus\")"
   ]
  },
  {
   "cell_type": "code",
   "execution_count": null,
   "id": "df8a8517-b328-4710-bb3b-1022cdfa207f",
   "metadata": {},
   "outputs": [],
   "source": [
    "%%spark -o df_train_with_weather\n",
    "df_train_with_weather = df_with_weather.filter(F.col(\"produkt_id\") == \"Zug\")"
   ]
  },
  {
   "cell_type": "code",
   "execution_count": null,
   "id": "1c71decb-c38b-4e70-8b66-fa35551bab22",
   "metadata": {},
   "outputs": [],
   "source": [
    "%%spark -o df_metro_with_weather\n",
    "df_metro_with_weather = df_with_weather.filter(F.col(\"produkt_id\") == \"Metro\")"
   ]
  },
  {
   "cell_type": "code",
   "execution_count": null,
   "id": "45431938-179b-4543-9ed6-b8cc7cb74e81",
   "metadata": {},
   "outputs": [],
   "source": [
    "%%local\n",
    "\n",
    "# There are 6 cases\n",
    "means_transport = ['Bus', 'Train', 'Metro']\n",
    "weather = ['Bad', 'Good']\n",
    "# rush_hour = ['false', 'true']\n",
    "\n",
    "dfs = [df_bus_with_weather, df_train_with_weather, df_metro_with_weather]\n",
    "\n",
    "fig, axes = plt.subplots(nrows=3, ncols=2, figsize=(30,20))\n",
    "\n",
    "# Gamma parameters \n",
    "gamma_params_dict = {}\n",
    "\n",
    "# Plot each of the groups\n",
    "axe_x = 0\n",
    "axe_y = 0\n",
    "for mt in range(len(means_transport)):\n",
    "    for wt in weather:\n",
    "\n",
    "            # Name of the group\n",
    "            name = means_transport[mt] + \", \" + wt + \" weather\" \n",
    "            delays = dfs[mt][(dfs[mt][\"weather_evaluation\"] == wt)][\"delay\"]\n",
    "\n",
    "            if not delays.empty:\n",
    "                delays = delays[(delays >= 0)]\n",
    "        \n",
    "                # Fit a Gamma distribution\n",
    "                fit_alpha, fit_loc, fit_scale = stats.gamma.fit(delays)\n",
    "                gamma_params_dict[name] = {'fit_alpha':fit_alpha, 'fit_loc':fit_loc, 'fit_scale':fit_scale}\n",
    "            \n",
    "                # histogram\n",
    "                axes[axe_y][axe_x].hist(delays, color='#ff66b2', bins=200, density = True, stacked = True)\n",
    "                ylimits = axes[axe_y][axe_x].get_ylim() \n",
    "            \n",
    "                # Plot the gamma distribution\n",
    "                x = np.linspace(delays.min(), delays.max(), 200)            \n",
    "                axes[axe_y][axe_x].plot(x, stats.gamma.pdf(x, fit_alpha, loc=fit_loc, scale=fit_scale),\n",
    "                                    label = rf'$\\alpha$={fit_alpha:.2f}, loc={fit_loc:.2f}, scale={fit_scale:.2f}', \n",
    "                                    color='#76d7c4', linewidth=5)\n",
    "            \n",
    "            \n",
    "                axes[axe_y][axe_x].legend()\n",
    "                axes[axe_y][axe_x].set_ylim(ylimits)\n",
    "                axes[axe_y][axe_x].grid(True)\n",
    "                axes[axe_y][axe_x].tick_params(axis='both', which='major', labelsize=10)\n",
    "                axes[axe_y][axe_x].set_xlabel(name, fontsize=12, labelpad=5)\n",
    "\n",
    "                # Increment the plot index\n",
    "                axe_x += 1\n",
    "                if (axe_x % 2 ==0):\n",
    "                    axe_x = 0\n",
    "                    axe_y += 1\n",
    "\n",
    "\n",
    "# Legends\n",
    "fig.suptitle('Distribution of delays by type of transport and weather conditions', fontsize=40, y=0.95)\n",
    "fig.text(0.5, 0.07, 'Delays (in minutes)', ha='center', fontsize=25)\n",
    "fig.text(0.08, 0.4, 'Probability Density', ha='center', fontsize=25, rotation='vertical')\n",
    "\n",
    "plt.show()\n"
   ]
  },
  {
   "cell_type": "markdown",
   "id": "c7b028e0-a388-4d84-8626-920de637de8c",
   "metadata": {},
   "source": [
    "# Delay modeling\n",
    "\n",
    "We test two models and compare them. We select the most accurate.<br>\n",
    "Our metrics are accuracy and . We'd prefer a false positive prediction of delay rather than false negative (i.e we prefer another route if false positive than waiting because we missed the connection because of a false negative)."
   ]
  },
  {
   "cell_type": "code",
   "execution_count": 12,
   "id": "9153b641-fd45-4571-b4b5-e97f99441f29",
   "metadata": {},
   "outputs": [
    {
     "data": {
      "application/vnd.jupyter.widget-view+json": {
       "model_id": "",
       "version_major": 2,
       "version_minor": 0
      },
      "text/plain": [
       "FloatProgress(value=0.0, bar_style='info', description='Progress:', layout=Layout(height='25px', width='50%'),…"
      ]
     },
     "metadata": {},
     "output_type": "display_data"
    }
   ],
   "source": [
    "from pyspark.sql import functions as F\n",
    "from pyspark.sql.types import FloatType\n",
    "from pyspark.ml.feature import VectorAssembler\n",
    "from pyspark.ml.classification import LogisticRegression, RandomForestClassifier\n",
    "from pyspark.ml.evaluation import BinaryClassificationEvaluator, MulticlassClassificationEvaluator"
   ]
  },
  {
   "cell_type": "code",
   "execution_count": 13,
   "id": "246dd462-cc20-4b5a-99e0-131097445960",
   "metadata": {},
   "outputs": [
    {
     "data": {
      "application/vnd.jupyter.widget-view+json": {
       "model_id": "",
       "version_major": 2,
       "version_minor": 0
      },
      "text/plain": [
       "FloatProgress(value=0.0, bar_style='info', description='Progress:', layout=Layout(height='25px', width='50%'),…"
      ]
     },
     "metadata": {},
     "output_type": "display_data"
    },
    {
     "name": "stdout",
     "output_type": "stream",
     "text": [
      "root\n",
      " |-- fahrt_bezeichner: string (nullable = true)\n",
      " |-- linien_text: string (nullable = true)\n",
      " |-- parent_station: string (nullable = true)\n",
      " |-- produkt_id: string (nullable = true)\n",
      " |-- bpuic: string (nullable = true)\n",
      " |-- stop_id: string (nullable = true)\n",
      " |-- month: integer (nullable = true)\n",
      " |-- hour: integer (nullable = true)\n",
      " |-- day_cat: string (nullable = true)\n",
      " |-- ankunftszeit: string (nullable = true)\n",
      " |-- an_prognose: string (nullable = true)\n",
      " |-- abfahrtszeit: string (nullable = true)\n",
      " |-- ab_prognose: string (nullable = true)\n",
      " |-- ankunftszeit_sec: long (nullable = true)\n",
      " |-- an_prognose_sec: long (nullable = true)\n",
      " |-- abfahrtszeit_sec: long (nullable = true)\n",
      " |-- ab_prognose_sec: long (nullable = true)\n",
      " |-- stop_lat: double (nullable = true)\n",
      " |-- stop_lon: double (nullable = true)\n",
      " |-- stop_name: string (nullable = true)\n",
      " |-- delay_bool: boolean (nullable = true)\n",
      " |-- delay: double (nullable = true)"
     ]
    }
   ],
   "source": [
    "df.printSchema()"
   ]
  },
  {
   "cell_type": "markdown",
   "id": "fc27dcca-6ec9-465f-be1d-6250ee92308a",
   "metadata": {},
   "source": [
    "### Formatting of data"
   ]
  },
  {
   "cell_type": "code",
   "execution_count": 14,
   "id": "08b90324-ef5d-4e8b-aba2-ef8604c71717",
   "metadata": {},
   "outputs": [
    {
     "data": {
      "application/vnd.jupyter.widget-view+json": {
       "model_id": "",
       "version_major": 2,
       "version_minor": 0
      },
      "text/plain": [
       "FloatProgress(value=0.0, bar_style='info', description='Progress:', layout=Layout(height='25px', width='50%'),…"
      ]
     },
     "metadata": {},
     "output_type": "display_data"
    },
    {
     "name": "stdout",
     "output_type": "stream",
     "text": [
      "+---------+-------------+----------------+---------------+--------------+----------+\n",
      "|rush_hour|day_cat_index|produkt_id_index|       stop_lat|      stop_lon|delay_bool|\n",
      "+---------+-------------+----------------+---------------+--------------+----------+\n",
      "|        0|          0.0|             0.0|46.564852973784|6.693508879657|         0|\n",
      "|        0|          0.0|             0.0|46.564852973784|6.693508879657|         0|\n",
      "|        0|          0.0|             0.0|46.564852973784|6.693508879657|         0|\n",
      "|        0|          0.0|             0.0|46.564852973784|6.693508879657|         0|\n",
      "|        0|          0.0|             0.0|46.564852973784|6.693508879657|         0|\n",
      "+---------+-------------+----------------+---------------+--------------+----------+\n",
      "only showing top 5 rows\n",
      "\n",
      "None\n",
      "root\n",
      " |-- rush_hour: integer (nullable = false)\n",
      " |-- day_cat_index: double (nullable = false)\n",
      " |-- produkt_id_index: double (nullable = false)\n",
      " |-- stop_lat: double (nullable = true)\n",
      " |-- stop_lon: double (nullable = true)\n",
      " |-- delay_bool: integer (nullable = false)\n",
      "\n",
      "None"
     ]
    }
   ],
   "source": [
    "# transform to correct format: string -> numerical\n",
    "from pyspark.ml.feature import StringIndexer, OneHotEncoder\n",
    "from pyspark.ml import Pipeline\n",
    "\n",
    "# Assuming 'df' is your DataFrame with string columns\n",
    "string_columns = ['produkt_id', 'day_cat']\n",
    "\n",
    "# Apply StringIndexer to each string column\n",
    "indexers = [StringIndexer(inputCol=col, outputCol=col+\"_index\", handleInvalid=\"keep\") for col in string_columns]\n",
    "\n",
    "# Chain indexers together into a single Pipeline\n",
    "pipeline = Pipeline(stages=indexers)\n",
    "\n",
    "# Fit the pipeline to the DataFrame\n",
    "data = data_train_stats_delay\n",
    "data_transformed = pipeline.fit(data).transform(data)\n",
    "\n",
    "# Drop the original string columns\n",
    "data_transformed = data_transformed.drop(*string_columns)\n",
    "data_transformed = data_transformed.select(['rush_hour', 'day_cat_index',\n",
    "                                            'produkt_id_index',\n",
    "                                            'stop_lat', 'stop_lon',\n",
    "                                            'delay_bool'])\n",
    "data_transformed = data_transformed.withColumn(\"rush_hour\", F.when(data_transformed[\"rush_hour\"] == True, 1).otherwise(0))\n",
    "data_transformed = data_transformed.withColumn(\"delay_bool\", F.when(data_transformed[\"delay_bool\"] == True, 1).otherwise(0))\n",
    "print(data_transformed.show(n=5))\n",
    "print(data_transformed.printSchema())"
   ]
  },
  {
   "cell_type": "code",
   "execution_count": 31,
   "id": "4f51e473-6fa3-4277-be6d-5802c6f0d143",
   "metadata": {},
   "outputs": [
    {
     "data": {
      "application/vnd.jupyter.widget-view+json": {
       "model_id": "",
       "version_major": 2,
       "version_minor": 0
      },
      "text/plain": [
       "FloatProgress(value=0.0, bar_style='info', description='Progress:', layout=Layout(height='25px', width='50%'),…"
      ]
     },
     "metadata": {},
     "output_type": "display_data"
    },
    {
     "name": "stdout",
     "output_type": "stream",
     "text": [
      "+----------------+----------+\n",
      "|produkt_id_index|produkt_id|\n",
      "+----------------+----------+\n",
      "|             0.0|       Bus|\n",
      "|             1.0|       Zug|\n",
      "|             2.0|     Metro|\n",
      "+----------------+----------+"
     ]
    }
   ],
   "source": [
    "# correspondance indexing and transport type\n",
    "temp1 = data_transformed.select(\"produkt_id_index\").groupBy(\"produkt_id_index\").agg(F.count(\"*\").alias(\"frequency\"))\n",
    "temp2 = data_train_stats_delay.select(\"produkt_id\").groupBy(\"produkt_id\").agg(F.count(\"*\").alias(\"frequency\"))\n",
    "convention_transport = temp1.join(temp2, on=\"frequency\").select(\"produkt_id_index\", \"produkt_id\")\n",
    "convention_transport.show()"
   ]
  },
  {
   "cell_type": "code",
   "execution_count": 19,
   "id": "ccf4992b-85df-4837-8902-8d73e30a2de4",
   "metadata": {},
   "outputs": [
    {
     "data": {
      "application/vnd.jupyter.widget-view+json": {
       "model_id": "",
       "version_major": 2,
       "version_minor": 0
      },
      "text/plain": [
       "FloatProgress(value=0.0, bar_style='info', description='Progress:', layout=Layout(height='25px', width='50%'),…"
      ]
     },
     "metadata": {},
     "output_type": "display_data"
    }
   ],
   "source": [
    "# Split the data into training and test sets\n",
    "train_data, test_data = data_transformed.randomSplit([0.7, 0.3], seed=42)\n",
    "\n",
    "# Define the feature columns\n",
    "feature_columns = data_transformed.columns[:-1]\n",
    "\n",
    "# Assemble the feature columns into a single vector column\n",
    "assembler = VectorAssembler(inputCols=feature_columns, outputCol=\"features\")\n",
    "train_data = assembler.transform(train_data)\n",
    "test_data = assembler.transform(test_data)"
   ]
  },
  {
   "cell_type": "code",
   "execution_count": 20,
   "id": "d2f5896a-4ce0-401b-975b-f111720d155c",
   "metadata": {},
   "outputs": [
    {
     "data": {
      "application/vnd.jupyter.widget-view+json": {
       "model_id": "",
       "version_major": 2,
       "version_minor": 0
      },
      "text/plain": [
       "FloatProgress(value=0.0, bar_style='info', description='Progress:', layout=Layout(height='25px', width='50%'),…"
      ]
     },
     "metadata": {},
     "output_type": "display_data"
    },
    {
     "name": "stdout",
     "output_type": "stream",
     "text": [
      "941199"
     ]
    }
   ],
   "source": [
    "train_data.count()"
   ]
  },
  {
   "cell_type": "markdown",
   "id": "83f7ff30-7267-4621-9afd-e5fd94b36576",
   "metadata": {},
   "source": [
    "### Training of Logistic Regression model"
   ]
  },
  {
   "cell_type": "code",
   "execution_count": 21,
   "id": "f3fd8597-c2d3-483a-b0d1-9268c3cda4db",
   "metadata": {},
   "outputs": [
    {
     "data": {
      "application/vnd.jupyter.widget-view+json": {
       "model_id": "",
       "version_major": 2,
       "version_minor": 0
      },
      "text/plain": [
       "FloatProgress(value=0.0, bar_style='info', description='Progress:', layout=Layout(height='25px', width='50%'),…"
      ]
     },
     "metadata": {},
     "output_type": "display_data"
    }
   ],
   "source": [
    "# Instantiate the logistic regression model\n",
    "lr = LogisticRegression(featuresCol=\"features\", labelCol=\"delay_bool\")\n",
    "\n",
    "# Train the logistic regression model\n",
    "lr_model = lr.fit(train_data)"
   ]
  },
  {
   "cell_type": "markdown",
   "id": "f6a05530-86f4-4e17-bf93-a7011b526201",
   "metadata": {},
   "source": [
    "#### Training of Random Forest model"
   ]
  },
  {
   "cell_type": "code",
   "execution_count": 30,
   "id": "1da3b5d8-ebe9-4607-90f5-d09c096dbba3",
   "metadata": {},
   "outputs": [
    {
     "data": {
      "application/vnd.jupyter.widget-view+json": {
       "model_id": "",
       "version_major": 2,
       "version_minor": 0
      },
      "text/plain": [
       "FloatProgress(value=0.0, bar_style='info', description='Progress:', layout=Layout(height='25px', width='50%'),…"
      ]
     },
     "metadata": {},
     "output_type": "display_data"
    }
   ],
   "source": [
    "# rf = RandomForestClassifier(featuresCol=\"features\", labelCol=\"delay_bool\", numTrees=20)\n",
    "\n",
    "# # Train the Random Forest model\n",
    "# rf_model = rf.fit(train_data)"
   ]
  },
  {
   "cell_type": "markdown",
   "id": "42609710-1c5d-47c2-ac63-07f8186bef15",
   "metadata": {},
   "source": [
    "### Testing model"
   ]
  },
  {
   "cell_type": "code",
   "execution_count": 22,
   "id": "93d7aa22-5d20-49c6-971a-1b7c70753f90",
   "metadata": {},
   "outputs": [
    {
     "data": {
      "application/vnd.jupyter.widget-view+json": {
       "model_id": "",
       "version_major": 2,
       "version_minor": 0
      },
      "text/plain": [
       "FloatProgress(value=0.0, bar_style='info', description='Progress:', layout=Layout(height='25px', width='50%'),…"
      ]
     },
     "metadata": {},
     "output_type": "display_data"
    }
   ],
   "source": [
    "def get_auc(model, predictions):\n",
    "    evaluator = BinaryClassificationEvaluator(labelCol=\"delay_bool\", rawPredictionCol=\"rawPrediction\", metricName=\"areaUnderROC\")\n",
    "    roc_auc = evaluator.evaluate(predictions)\n",
    "    return roc_auc\n",
    "\n",
    "def get_precision(model, predictions):\n",
    "    precision_evaluator = MulticlassClassificationEvaluator(labelCol=\"delay_bool\", predictionCol=\"prediction\", metricName=\"weightedPrecision\")\n",
    "    precision = precision_evaluator.evaluate(predictions)\n",
    "    return precision\n",
    "\n",
    "def get_recall(model, predictions):\n",
    "    recall_evaluator = MulticlassClassificationEvaluator(labelCol=\"delay_bool\", predictionCol=\"prediction\", metricName=\"weightedRecall\")\n",
    "    recall = recall_evaluator.evaluate(predictions)\n",
    "    return recall\n",
    "\n",
    "def get_f1_score(model, predictions):\n",
    "    f1_evaluator = MulticlassClassificationEvaluator(labelCol=\"delay_bool\", predictionCol=\"prediction\", metricName=\"f1\")\n",
    "    f1_score = f1_evaluator.evaluate(predictions)\n",
    "    return f1_score\n",
    "\n",
    "def get_metrics(model, predictions):\n",
    "    # AUC\n",
    "    roc_auc = get_auc(model, predictions)\n",
    "    print(\"Area under ROC curve: {:.3f}\".format(roc_auc))\n",
    "    \n",
    "    # Precision\n",
    "    precision = get_precision(model, predictions)\n",
    "    print(\"Precision: {:.3f}\".format(precision))\n",
    "    \n",
    "    # Recall\n",
    "    recall = get_recall(model, predictions)\n",
    "    print(\"Recall: {:.3f}\".format(recall))\n",
    "    \n",
    "    # F1 score\n",
    "    f1_score = get_f1_score(model, predictions)\n",
    "    print(\"F1 Score: {:.3f}\".format(f1_score))\n",
    "\n",
    "    return(roc_auc, precision, recall, f1_score)"
   ]
  },
  {
   "cell_type": "code",
   "execution_count": 23,
   "id": "b53a027b-1a46-413b-b65e-3dcdc211d2a2",
   "metadata": {},
   "outputs": [
    {
     "data": {
      "application/vnd.jupyter.widget-view+json": {
       "model_id": "",
       "version_major": 2,
       "version_minor": 0
      },
      "text/plain": [
       "FloatProgress(value=0.0, bar_style='info', description='Progress:', layout=Layout(height='25px', width='50%'),…"
      ]
     },
     "metadata": {},
     "output_type": "display_data"
    },
    {
     "name": "stdout",
     "output_type": "stream",
     "text": [
      "Area under ROC curve: 0.627\n",
      "Precision: 0.951\n",
      "Recall: 0.975\n",
      "F1 Score: 0.963"
     ]
    }
   ],
   "source": [
    "predictions_lr = lr_model.transform(test_data)\n",
    "log_reg_metrics = get_metrics(lr_model, predictions_lr)\n",
    "\n",
    "# predictions_rf = rf_model.transform(test_data)\n",
    "# rand_forest_metrics = get_metrics(rf_model, predictions_rf)"
   ]
  },
  {
   "cell_type": "markdown",
   "id": "96186981-e9c6-4a85-9505-61a147da8eb0",
   "metadata": {},
   "source": [
    "# Model validation\n",
    "To validate the model, we make predictions on the month of March."
   ]
  },
  {
   "cell_type": "markdown",
   "id": "9b898096-46bd-418d-8518-d0472e0fc745",
   "metadata": {},
   "source": [
    "# Export coefficients"
   ]
  },
  {
   "cell_type": "code",
   "execution_count": 24,
   "id": "48be1082-a760-4418-857b-594ac33a0a59",
   "metadata": {},
   "outputs": [
    {
     "data": {
      "application/vnd.jupyter.widget-view+json": {
       "model_id": "",
       "version_major": 2,
       "version_minor": 0
      },
      "text/plain": [
       "FloatProgress(value=0.0, bar_style='info', description='Progress:', layout=Layout(height='25px', width='50%'),…"
      ]
     },
     "metadata": {},
     "output_type": "display_data"
    }
   ],
   "source": [
    "from pyspark.sql.types import StructType, StructField, IntegerType, FloatType"
   ]
  },
  {
   "cell_type": "code",
   "execution_count": 25,
   "id": "805f6b68-295e-44f5-a45b-e7b8a5d689a3",
   "metadata": {},
   "outputs": [
    {
     "data": {
      "application/vnd.jupyter.widget-view+json": {
       "model_id": "",
       "version_major": 2,
       "version_minor": 0
      },
      "text/plain": [
       "FloatProgress(value=0.0, bar_style='info', description='Progress:', layout=Layout(height='25px', width='50%'),…"
      ]
     },
     "metadata": {},
     "output_type": "display_data"
    }
   ],
   "source": [
    "def extract_coefficients(model):\n",
    "    # extract coeff\n",
    "    coefficients = model.coefficients.toArray()\n",
    "    intercept = model.intercept\n",
    "    coefficients = np.hstack([intercept, coefficients])\n",
    "    return coefficients"
   ]
  },
  {
   "cell_type": "code",
   "execution_count": 26,
   "id": "eaed187c-3708-447e-9845-bf38e4113725",
   "metadata": {},
   "outputs": [
    {
     "data": {
      "application/vnd.jupyter.widget-view+json": {
       "model_id": "",
       "version_major": 2,
       "version_minor": 0
      },
      "text/plain": [
       "FloatProgress(value=0.0, bar_style='info', description='Progress:', layout=Layout(height='25px', width='50%'),…"
      ]
     },
     "metadata": {},
     "output_type": "display_data"
    },
    {
     "name": "stdout",
     "output_type": "stream",
     "text": [
      "array([-60.42097449,   1.01804404,   0.        ,  -0.14124128,\n",
      "         0.55843595,   4.56289174])"
     ]
    }
   ],
   "source": [
    "# get coefficients in numpy array form\n",
    "coefs_lr = extract_coefficients(lr_model)\n",
    "coefs_lr"
   ]
  },
  {
   "cell_type": "code",
   "execution_count": 27,
   "id": "31d295e3-7356-47c4-8355-1429d48589a9",
   "metadata": {},
   "outputs": [
    {
     "data": {
      "application/vnd.jupyter.widget-view+json": {
       "model_id": "",
       "version_major": 2,
       "version_minor": 0
      },
      "text/plain": [
       "FloatProgress(value=0.0, bar_style='info', description='Progress:', layout=Layout(height='25px', width='50%'),…"
      ]
     },
     "metadata": {},
     "output_type": "display_data"
    },
    {
     "name": "stdout",
     "output_type": "stream",
     "text": [
      "+-----+-----------+\n",
      "|index|      value|\n",
      "+-----+-----------+\n",
      "|    0| -60.420975|\n",
      "|    1|   1.018044|\n",
      "|    2|        0.0|\n",
      "|    3|-0.14124128|\n",
      "|    4|  0.5584359|\n",
      "+-----+-----------+\n",
      "only showing top 5 rows"
     ]
    }
   ],
   "source": [
    "# create dataframe with coefficients\n",
    "data_coef_lr = [(i, float(coef)) for i, coef in enumerate(coefs_lr)]\n",
    "schema = StructType([\n",
    "    StructField(\"index\", IntegerType(), True),\n",
    "    StructField(\"value\", FloatType(), True)\n",
    "])\n",
    "coefs_lr_df = spark.createDataFrame(data_coef_lr, schema)\n",
    "coefs_lr_df.show(n=5)"
   ]
  },
  {
   "cell_type": "code",
   "execution_count": 37,
   "id": "e9398ba8-f08b-48a4-94d4-54554bc18098",
   "metadata": {},
   "outputs": [
    {
     "data": {
      "application/vnd.jupyter.widget-view+json": {
       "model_id": "",
       "version_major": 2,
       "version_minor": 0
      },
      "text/plain": [
       "FloatProgress(value=0.0, bar_style='info', description='Progress:', layout=Layout(height='25px', width='50%'),…"
      ]
     },
     "metadata": {},
     "output_type": "display_data"
    },
    {
     "name": "stdout",
     "output_type": "stream",
     "text": [
      "root\n",
      " |-- index: integer (nullable = true)\n",
      " |-- value: float (nullable = true)"
     ]
    }
   ],
   "source": [
    "coefs_lr_df.printSchema()"
   ]
  },
  {
   "cell_type": "code",
   "execution_count": null,
   "id": "0f7bf0ac-f8dc-4e1a-976a-4d6940ae8e14",
   "metadata": {},
   "outputs": [],
   "source": [
    "%%sh\n",
    "hdfs dfs -ls /user/leclercq/livy/\n",
    "hdfs dfs -chmod 770 /user/leclercq/livy"
   ]
  },
  {
   "cell_type": "code",
   "execution_count": 28,
   "id": "e16726bb-6e30-483d-8ee4-bb9b9f1c2f5a",
   "metadata": {},
   "outputs": [
    {
     "data": {
      "application/vnd.jupyter.widget-view+json": {
       "model_id": "",
       "version_major": 2,
       "version_minor": 0
      },
      "text/plain": [
       "FloatProgress(value=0.0, bar_style='info', description='Progress:', layout=Layout(height='25px', width='50%'),…"
      ]
     },
     "metadata": {},
     "output_type": "display_data"
    },
    {
     "name": "stdout",
     "output_type": "stream",
     "text": [
      "DataFrame[]"
     ]
    }
   ],
   "source": [
    "# save coefficients\n",
    "model = \"lr\"\n",
    "hdfs_path = f\"/user/{username}/livy/coefficients_{model}\"\n",
    "coefs_lr_df.write.mode(\"overwrite\").orc(hdfs_path)\n",
    "\n",
    "spark.sql(f\"DROP TABLE IF EXISTS {username}.coefficients_{model}\")\n",
    "\n",
    "spark.sql(f\"\"\"\n",
    "CREATE EXTERNAL TABLE IF NOT EXISTS {username}.coefficients_{model}\n",
    "(\n",
    "    index INT,\n",
    "    value FLOAT\n",
    ")\n",
    "STORED AS ORC\n",
    "LOCATION '{hdfs_path}'\n",
    "\"\"\")"
   ]
  },
  {
   "cell_type": "code",
   "execution_count": 37,
   "id": "a4ee9f33-d514-47ca-a6bb-2394a3c46b1c",
   "metadata": {},
   "outputs": [
    {
     "data": {
      "application/vnd.jupyter.widget-view+json": {
       "model_id": "",
       "version_major": 2,
       "version_minor": 0
      },
      "text/plain": [
       "FloatProgress(value=0.0, bar_style='info', description='Progress:', layout=Layout(height='25px', width='50%'),…"
      ]
     },
     "metadata": {},
     "output_type": "display_data"
    },
    {
     "name": "stdout",
     "output_type": "stream",
     "text": [
      "DataFrame[]"
     ]
    }
   ],
   "source": [
    "# save conventions\n",
    "hdfs_path = f\"/user/{username}/livy/convention_transport\"\n",
    "convention_transport.write.mode(\"overwrite\").orc(hdfs_path)\n",
    "\n",
    "spark.sql(f\"DROP TABLE IF EXISTS {username}.convention_transport\")\n",
    "\n",
    "spark.sql(f\"\"\"\n",
    "CREATE EXTERNAL TABLE IF NOT EXISTS {username}.convention_transport\n",
    "(\n",
    "    produkt_id_index FLOAT,\n",
    "    produkt_id STRING\n",
    ")\n",
    "STORED AS ORC\n",
    "LOCATION '{hdfs_path}'\n",
    "\"\"\")"
   ]
  },
  {
   "cell_type": "code",
   "execution_count": 39,
   "id": "b8a1c331-7216-48a6-bf63-5ba0297a4d8b",
   "metadata": {},
   "outputs": [
    {
     "data": {
      "application/vnd.jupyter.widget-view+json": {
       "model_id": "",
       "version_major": 2,
       "version_minor": 0
      },
      "text/plain": [
       "FloatProgress(value=0.0, bar_style='info', description='Progress:', layout=Layout(height='25px', width='50%'),…"
      ]
     },
     "metadata": {},
     "output_type": "display_data"
    },
    {
     "name": "stdout",
     "output_type": "stream",
     "text": [
      "DataFrame[]"
     ]
    }
   ],
   "source": [
    "hdfs_path = f\"/user/{username}/livy/convention_hours\"\n",
    "convention_hours.write.mode(\"overwrite\").orc(hdfs_path)\n",
    "\n",
    "spark.sql(f\"DROP TABLE IF EXISTS {username}.convention_hours\")\n",
    "\n",
    "spark.sql(f\"\"\"\n",
    "CREATE EXTERNAL TABLE IF NOT EXISTS {username}.convention_hours\n",
    "(\n",
    "    produkt_id STRING,\n",
    "    hour INT,\n",
    "    rush_hour BOOLEAN\n",
    ")\n",
    "STORED AS ORC\n",
    "LOCATION '{hdfs_path}'\n",
    "\"\"\")"
   ]
  },
  {
   "cell_type": "code",
   "execution_count": 40,
   "id": "77a1ba73-70ae-4452-9b88-a0c35df11ec6",
   "metadata": {},
   "outputs": [
    {
     "data": {
      "application/vnd.jupyter.widget-view+json": {
       "model_id": "",
       "version_major": 2,
       "version_minor": 0
      },
      "text/plain": [
       "FloatProgress(value=0.0, bar_style='info', description='Progress:', layout=Layout(height='25px', width='50%'),…"
      ]
     },
     "metadata": {},
     "output_type": "display_data"
    },
    {
     "name": "stdout",
     "output_type": "stream",
     "text": [
      "+-----+-----------+\n",
      "|index|      value|\n",
      "+-----+-----------+\n",
      "|    0| -60.420975|\n",
      "|    1|   1.018044|\n",
      "|    3|-0.14124128|\n",
      "|    4|  0.5584359|\n",
      "|    5|   4.562892|\n",
      "|    2|        0.0|\n",
      "+-----+-----------+\n",
      "\n",
      "None\n",
      "+----------+----+---------+\n",
      "|produkt_id|hour|rush_hour|\n",
      "+----------+----+---------+\n",
      "|       Bus|   6|    false|\n",
      "|       Bus|   7|     true|\n",
      "|       Bus|   8|     true|\n",
      "|       Bus|   9|     true|\n",
      "|       Bus|  10|    false|\n",
      "|       Bus|  11|    false|\n",
      "|       Bus|  12|    false|\n",
      "|       Bus|  13|    false|\n",
      "|       Bus|  14|    false|\n",
      "|       Bus|  15|    false|\n",
      "|       Bus|  16|     true|\n",
      "|       Bus|  17|     true|\n",
      "|       Bus|  18|     true|\n",
      "|       Bus|  19|    false|\n",
      "|       Bus|  20|    false|\n",
      "|       Bus|  21|    false|\n",
      "|       Bus|  22|    false|\n",
      "|     Metro|   9|    false|\n",
      "|     Metro|  12|    false|\n",
      "|     Metro|  14|     true|\n",
      "+----------+----+---------+\n",
      "only showing top 20 rows\n",
      "\n",
      "None\n",
      "+----------------+----------+\n",
      "|produkt_id_index|produkt_id|\n",
      "+----------------+----------+\n",
      "|             1.0|       Zug|\n",
      "|             0.0|       Bus|\n",
      "|             2.0|     Metro|\n",
      "+----------------+----------+\n",
      "\n",
      "None"
     ]
    }
   ],
   "source": [
    "print(spark.sql(f\"SELECT * FROM {username}.coefficients_lr\").show())\n",
    "print(spark.sql(f\"SELECT * FROM {username}.convention_hours\").show())\n",
    "print(spark.sql(f\"SELECT * FROM {username}.convention_transport\").show())"
   ]
  }
 ],
 "metadata": {
  "kernelspec": {
   "display_name": "PySpark",
   "language": "python",
   "name": "pysparkkernel"
  },
  "language_info": {
   "codemirror_mode": {
    "name": "python",
    "version": 3
   },
   "file_extension": ".py",
   "mimetype": "text/x-python",
   "name": "pyspark",
   "pygments_lexer": "python3"
  }
 },
 "nbformat": 4,
 "nbformat_minor": 5
}
